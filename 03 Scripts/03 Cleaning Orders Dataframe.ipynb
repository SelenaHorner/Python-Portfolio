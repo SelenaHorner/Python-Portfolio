{
 "cells": [
  {
   "cell_type": "markdown",
   "id": "f0cc6947",
   "metadata": {},
   "source": [
    "# Summary of Notebook\n",
    "    used a crosstab command to better understand the missing days_since_prior_orders: result: first orders all had 0 days since prior order. It seems to make sense that the days_since_prior_order having missing data = first time orders.\n",
    "        Exported the one-time customer as pickle with 206209 rows\n",
    "        Saved as one_time_purchase.pkl\n",
    "    order_id and user_id both = int32 datatype\n",
    "    Dropped the missing values from original dataframe\n",
    "    Dropped eval_set column from dataframe\n",
    "    Exported as pickle with 3214874 rows\n",
    "    Saved as orders_cleaned.pkl\n",
    "    "
   ]
  },
  {
   "cell_type": "markdown",
   "id": "6abc0b03",
   "metadata": {},
   "source": [
    "# Summary of Previous Notebook\n",
    "    Dataframe exported with 3421083 rows\n",
    "    Dataframe exported as pickle\n",
    "    Saved as: orders_ready_to_clean.pkl\n",
    "    Renamed variables for clarity\n",
    "    order_id & user_id = int32\n",
    "    Changed datatype to conserve memory\n",
    "    Used dataprep to analyze orders dataframe\n",
    "    Missing data: days_since_prior_order is missing 206,209 times (6.03% missing for the variable)\n",
    "    No duplicate rows\n",
    "    user_id: approximately 6% is unique. These unique matches the missing which = one time order\n",
    "    eval_set = prior, train, test. 94% = prior\n",
    "    order_number ranges from 1 to 100\n",
    "    day_of_week_ordered seen in dataprep as a categorical versus int16, so had to view that differently\n",
    "    hour_of_day_ordered ranges from 0 to 23\n",
    "    days_since_prior_order ranges from 0 to 30; 0 & .6 days totals to 6.25% of the variable count\n",
    "    no correlations seen\n",
    "    using describe: day_of_week_ordered ranges from 0 to 6\n",
    "    Included sweetviz as an output for visual as well"
   ]
  },
  {
   "cell_type": "code",
   "execution_count": 1,
   "id": "c08e7014",
   "metadata": {},
   "outputs": [],
   "source": [
    "#importing libraries\n",
    "import pandas as pd\n",
    "import numpy as np\n",
    "import os\n",
    "import matplotlib.pyplot as plt\n",
    "import seaborn as sns\n",
    "import scipy\n",
    "import datetime as dt"
   ]
  },
  {
   "cell_type": "code",
   "execution_count": 2,
   "id": "00e45459",
   "metadata": {},
   "outputs": [],
   "source": [
    "#import csv orders dataframe\n",
    "df_orders = pd.read_pickle(r'C:\\Users\\Selena\\Desktop\\3-22 Instacart Basket Analysis\\02 Data\\Prepared Data\\orders_ready_to_clean.pkl')\n",
    "path = r'C:\\Users\\Selena\\Desktop\\3-22 Instacart Basket Analysis'\n",
    "df_orders = pd.read_pickle(os.path.join(path, '02 Data', 'Prepared Data', 'orders_ready_to_clean.pkl'))"
   ]
  },
  {
   "cell_type": "code",
   "execution_count": 3,
   "id": "82552256",
   "metadata": {},
   "outputs": [
    {
     "name": "stdout",
     "output_type": "stream",
     "text": [
      "<class 'pandas.core.frame.DataFrame'>\n",
      "RangeIndex: 3421083 entries, 0 to 3421082\n",
      "Data columns (total 7 columns):\n",
      " #   Column                  Dtype   \n",
      "---  ------                  -----   \n",
      " 0   order_id                int32   \n",
      " 1   user_id                 int32   \n",
      " 2   eval_set                category\n",
      " 3   order_number            int16   \n",
      " 4   day_of_week_ordered     int16   \n",
      " 5   hour_of_day_ordered     int16   \n",
      " 6   days_since_prior_order  float64 \n",
      "dtypes: category(1), float64(1), int16(3), int32(2)\n",
      "memory usage: 75.0 MB\n"
     ]
    }
   ],
   "source": [
    "#confirming full dataframe imported\n",
    "df_orders.info()"
   ]
  },
  {
   "cell_type": "markdown",
   "id": "565cdc0c",
   "metadata": {},
   "source": [
    "#imported dataframe matches"
   ]
  },
  {
   "cell_type": "code",
   "execution_count": 4,
   "id": "c4990841",
   "metadata": {},
   "outputs": [],
   "source": [
    "#days_since_prior_order is missing 206,209 times - figuring out why. I assume it is due to customers only placing one order in the system\n",
    "crosstab = pd.crosstab(df_orders['days_since_prior_order'], df_orders['order_number'], dropna = False)"
   ]
  },
  {
   "cell_type": "code",
   "execution_count": 5,
   "id": "2031f27d",
   "metadata": {},
   "outputs": [],
   "source": [
    "crosstab.to_clipboard()"
   ]
  },
  {
   "cell_type": "markdown",
   "id": "8b0d6ae5",
   "metadata": {},
   "source": [
    "#when I looked at the data in Excel, choosing \"filter\" for the column of 1 order (which = first order), every row had 0 days since prior order, so the missing values are for one time orders"
   ]
  },
  {
   "cell_type": "code",
   "execution_count": 6,
   "id": "c0be3649",
   "metadata": {},
   "outputs": [],
   "source": [
    "# learning the one time only customers\n",
    "null_data = df_orders[df_orders.isnull().any(axis=1)]"
   ]
  },
  {
   "cell_type": "code",
   "execution_count": 7,
   "id": "8f17714b",
   "metadata": {},
   "outputs": [
    {
     "data": {
      "text/html": [
       "<div>\n",
       "<style scoped>\n",
       "    .dataframe tbody tr th:only-of-type {\n",
       "        vertical-align: middle;\n",
       "    }\n",
       "\n",
       "    .dataframe tbody tr th {\n",
       "        vertical-align: top;\n",
       "    }\n",
       "\n",
       "    .dataframe thead th {\n",
       "        text-align: right;\n",
       "    }\n",
       "</style>\n",
       "<table border=\"1\" class=\"dataframe\">\n",
       "  <thead>\n",
       "    <tr style=\"text-align: right;\">\n",
       "      <th></th>\n",
       "      <th>order_id</th>\n",
       "      <th>user_id</th>\n",
       "      <th>eval_set</th>\n",
       "      <th>order_number</th>\n",
       "      <th>day_of_week_ordered</th>\n",
       "      <th>hour_of_day_ordered</th>\n",
       "      <th>days_since_prior_order</th>\n",
       "    </tr>\n",
       "  </thead>\n",
       "  <tbody>\n",
       "    <tr>\n",
       "      <th>0</th>\n",
       "      <td>2539329</td>\n",
       "      <td>1</td>\n",
       "      <td>prior</td>\n",
       "      <td>1</td>\n",
       "      <td>2</td>\n",
       "      <td>8</td>\n",
       "      <td>NaN</td>\n",
       "    </tr>\n",
       "    <tr>\n",
       "      <th>11</th>\n",
       "      <td>2168274</td>\n",
       "      <td>2</td>\n",
       "      <td>prior</td>\n",
       "      <td>1</td>\n",
       "      <td>2</td>\n",
       "      <td>11</td>\n",
       "      <td>NaN</td>\n",
       "    </tr>\n",
       "    <tr>\n",
       "      <th>26</th>\n",
       "      <td>1374495</td>\n",
       "      <td>3</td>\n",
       "      <td>prior</td>\n",
       "      <td>1</td>\n",
       "      <td>1</td>\n",
       "      <td>14</td>\n",
       "      <td>NaN</td>\n",
       "    </tr>\n",
       "    <tr>\n",
       "      <th>39</th>\n",
       "      <td>3343014</td>\n",
       "      <td>4</td>\n",
       "      <td>prior</td>\n",
       "      <td>1</td>\n",
       "      <td>6</td>\n",
       "      <td>11</td>\n",
       "      <td>NaN</td>\n",
       "    </tr>\n",
       "    <tr>\n",
       "      <th>45</th>\n",
       "      <td>2717275</td>\n",
       "      <td>5</td>\n",
       "      <td>prior</td>\n",
       "      <td>1</td>\n",
       "      <td>3</td>\n",
       "      <td>12</td>\n",
       "      <td>NaN</td>\n",
       "    </tr>\n",
       "  </tbody>\n",
       "</table>\n",
       "</div>"
      ],
      "text/plain": [
       "    order_id  user_id eval_set  order_number  day_of_week_ordered  \\\n",
       "0    2539329        1    prior             1                    2   \n",
       "11   2168274        2    prior             1                    2   \n",
       "26   1374495        3    prior             1                    1   \n",
       "39   3343014        4    prior             1                    6   \n",
       "45   2717275        5    prior             1                    3   \n",
       "\n",
       "    hour_of_day_ordered  days_since_prior_order  \n",
       "0                     8                     NaN  \n",
       "11                   11                     NaN  \n",
       "26                   14                     NaN  \n",
       "39                   11                     NaN  \n",
       "45                   12                     NaN  "
      ]
     },
     "execution_count": 7,
     "metadata": {},
     "output_type": "execute_result"
    }
   ],
   "source": [
    "#checking the dataframe head\n",
    "null_data.head()"
   ]
  },
  {
   "cell_type": "code",
   "execution_count": 8,
   "id": "075fbd9d",
   "metadata": {},
   "outputs": [
    {
     "name": "stdout",
     "output_type": "stream",
     "text": [
      "<class 'pandas.core.frame.DataFrame'>\n",
      "Int64Index: 206209 entries, 0 to 3421069\n",
      "Data columns (total 7 columns):\n",
      " #   Column                  Non-Null Count   Dtype   \n",
      "---  ------                  --------------   -----   \n",
      " 0   order_id                206209 non-null  int32   \n",
      " 1   user_id                 206209 non-null  int32   \n",
      " 2   eval_set                206209 non-null  category\n",
      " 3   order_number            206209 non-null  int16   \n",
      " 4   day_of_week_ordered     206209 non-null  int16   \n",
      " 5   hour_of_day_ordered     206209 non-null  int16   \n",
      " 6   days_since_prior_order  0 non-null       float64 \n",
      "dtypes: category(1), float64(1), int16(3), int32(2)\n",
      "memory usage: 6.1 MB\n"
     ]
    }
   ],
   "source": [
    "#double checking that it has the correct number of rows\n",
    "null_data.info()"
   ]
  },
  {
   "cell_type": "code",
   "execution_count": 9,
   "id": "124f1a78",
   "metadata": {},
   "outputs": [],
   "source": [
    "#exporting the one time only purchasers in case a comparison is needed\n",
    "#exporting the file as a pickle\n",
    "null_data.to_pickle(os.path.join(path, '02 Data','Prepared Data', 'one_time_purchase.pkl'))"
   ]
  },
  {
   "cell_type": "code",
   "execution_count": 11,
   "id": "d2945950",
   "metadata": {},
   "outputs": [],
   "source": [
    "#dropping the rows with missing values for days_since_prior_order\n",
    "df_orders = df_orders.dropna()"
   ]
  },
  {
   "cell_type": "code",
   "execution_count": 12,
   "id": "6ac7f536",
   "metadata": {},
   "outputs": [
    {
     "name": "stderr",
     "output_type": "stream",
     "text": [
      "C:\\Users\\Selena\\AppData\\Local\\Temp/ipykernel_2660/2388869477.py:2: FutureWarning: In a future version of pandas all arguments of DataFrame.drop except for the argument 'labels' will be keyword-only\n",
      "  df_orders = df_orders.drop('eval_set', 1)\n"
     ]
    }
   ],
   "source": [
    "#dropping eval_set\n",
    "df_orders = df_orders.drop('eval_set', 1)"
   ]
  },
  {
   "cell_type": "code",
   "execution_count": 13,
   "id": "711fe051",
   "metadata": {},
   "outputs": [
    {
     "name": "stdout",
     "output_type": "stream",
     "text": [
      "<class 'pandas.core.frame.DataFrame'>\n",
      "Int64Index: 3214874 entries, 1 to 3421082\n",
      "Data columns (total 6 columns):\n",
      " #   Column                  Dtype  \n",
      "---  ------                  -----  \n",
      " 0   order_id                int32  \n",
      " 1   user_id                 int32  \n",
      " 2   order_number            int16  \n",
      " 3   day_of_week_ordered     int16  \n",
      " 4   hour_of_day_ordered     int16  \n",
      " 5   days_since_prior_order  float64\n",
      "dtypes: float64(1), int16(3), int32(2)\n",
      "memory usage: 92.0 MB\n"
     ]
    }
   ],
   "source": [
    "df_orders.info()"
   ]
  },
  {
   "cell_type": "code",
   "execution_count": 14,
   "id": "862aa986",
   "metadata": {},
   "outputs": [],
   "source": [
    "#exporting the file as a pickle\n",
    "df_orders.to_pickle(os.path.join(path, '02 Data','Prepared Data', 'orders_cleaned.pkl'))"
   ]
  },
  {
   "cell_type": "code",
   "execution_count": null,
   "id": "949dda81",
   "metadata": {},
   "outputs": [],
   "source": []
  }
 ],
 "metadata": {
  "kernelspec": {
   "display_name": "Python 3 (ipykernel)",
   "language": "python",
   "name": "python3"
  },
  "language_info": {
   "codemirror_mode": {
    "name": "ipython",
    "version": 3
   },
   "file_extension": ".py",
   "mimetype": "text/x-python",
   "name": "python",
   "nbconvert_exporter": "python",
   "pygments_lexer": "ipython3",
   "version": "3.9.7"
  }
 },
 "nbformat": 4,
 "nbformat_minor": 5
}
