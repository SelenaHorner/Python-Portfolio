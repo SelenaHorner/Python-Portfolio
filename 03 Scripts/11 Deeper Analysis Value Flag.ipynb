{
 "cells": [
  {
   "cell_type": "markdown",
   "id": "ad443cd6",
   "metadata": {},
   "source": [
    "# Summary of Notebook\n",
    "    query to focus on target shopper\n",
    "    it looks like the biggest difference with the target shoppers is that there is a higher count of married in the dataset which means that the sum of sales is greater for this group. The max, min and average isn't very different from not target shoppers."
   ]
  },
  {
   "cell_type": "code",
   "execution_count": 1,
   "id": "381c9075",
   "metadata": {},
   "outputs": [],
   "source": [
    "#importing libraries\n",
    "import pandas as pd\n",
    "import numpy as np\n",
    "import os\n",
    "import matplotlib.pyplot as plt\n",
    "import seaborn as sns\n",
    "import scipy\n",
    "import datetime as dt"
   ]
  },
  {
   "cell_type": "code",
   "execution_count": 2,
   "id": "a9406f59",
   "metadata": {},
   "outputs": [],
   "source": [
    "#import pickle active customers dataframe\n",
    "df_active = pd.read_pickle(r'C:\\Users\\Selena\\Desktop\\3-22 Instacart Basket Analysis\\04 Analysis\\all_active_with_value.pkl')\n",
    "path = r'C:\\Users\\Selena\\Desktop\\3-22 Instacart Basket Analysis'\n",
    "df_active = pd.read_pickle(os.path.join(path, '04 Analysis', 'all_active_with_value.pkl'))"
   ]
  },
  {
   "cell_type": "code",
   "execution_count": 3,
   "id": "86f890c5",
   "metadata": {},
   "outputs": [
    {
     "name": "stdout",
     "output_type": "stream",
     "text": [
      "<class 'pandas.core.frame.DataFrame'>\n",
      "Int64Index: 28669841 entries, 0 to 30330083\n",
      "Data columns (total 32 columns):\n",
      " #   Column                  Dtype         \n",
      "---  ------                  -----         \n",
      " 0   order_id                int32         \n",
      " 1   user_id                 int32         \n",
      " 2   order_number            int16         \n",
      " 3   day_of_week_ordered     int16         \n",
      " 4   hour_of_day_ordered     int16         \n",
      " 5   days_since_prior_order  float64       \n",
      " 6   product_id              int32         \n",
      " 7   add_to_cart_order       int16         \n",
      " 8   reordered               int16         \n",
      " 9   product_name            category      \n",
      " 10  aisle_id                int16         \n",
      " 11  department_id           int16         \n",
      " 12  price                   float64       \n",
      " 13  gender                  category      \n",
      " 14  state                   category      \n",
      " 15  age                     int16         \n",
      " 16  date_joined             datetime64[ns]\n",
      " 17  dependents              int16         \n",
      " 18  living_situation        category      \n",
      " 19  income                  int32         \n",
      " 20  price_range_loc         category      \n",
      " 21  busiest_day             category      \n",
      " 22  busiest_period_of_day   category      \n",
      " 23  max_order               int16         \n",
      " 24  loyalty_flag            category      \n",
      " 25  total_spent             float64       \n",
      " 26  spender_flag            category      \n",
      " 27  median_days_prior_ord   float64       \n",
      " 28  frequency_flag          category      \n",
      " 29  region                  category      \n",
      " 30  order_paid_amount       float64       \n",
      " 31  value_flag              object        \n",
      "dtypes: category(11), datetime64[ns](1), float64(5), int16(10), int32(4), object(1)\n",
      "memory usage: 3.0+ GB\n"
     ]
    }
   ],
   "source": [
    "df_active.info()"
   ]
  },
  {
   "cell_type": "code",
   "execution_count": 4,
   "id": "2cee81cb",
   "metadata": {},
   "outputs": [],
   "source": [
    "#trying to learn about target customers\n",
    "df_filtered = df_active.query(\"value_flag == 'target shopper'\")"
   ]
  },
  {
   "cell_type": "code",
   "execution_count": 5,
   "id": "deb22d40",
   "metadata": {},
   "outputs": [
    {
     "data": {
      "text/plain": [
       "department_id  product_name            \n",
       "4              Banana                      3624699.3\n",
       "               Bag of Organic Bananas      2495566.4\n",
       "               Large Lemon                 1335040.0\n",
       "               Limes                       1289263.5\n",
       "               Organic Baby Spinach        1240241.8\n",
       "               Organic Strawberries        1221151.3\n",
       "16             Organic Whole Milk          1132531.2\n",
       "4              Cucumber Kirby               794283.6\n",
       "               Apple Honeycrisp Organic     758622.3\n",
       "               Organic Cucumber             726668.8\n",
       "               Organic Avocado              675958.5\n",
       "               Asparagus                    591076.2\n",
       "               Organic Baby Carrots         572901.8\n",
       "               Michigan Organic Kale        561553.8\n",
       "               Organic Hass Avocado         547180.0\n",
       "Name: price, dtype: float64"
      ]
     },
     "execution_count": 5,
     "metadata": {},
     "output_type": "execute_result"
    }
   ],
   "source": [
    "#try to see which department generates the most money\n",
    "df_filtered.groupby(['department_id','product_name'])['price'].agg('sum').sort_values(ascending=False).head(15)"
   ]
  },
  {
   "cell_type": "code",
   "execution_count": 6,
   "id": "aae05168",
   "metadata": {},
   "outputs": [
    {
     "data": {
      "image/png": "[encoded data removed]",
      "text/plain": [
       "<Figure size 432x288 with 1 Axes>"
      ]
     },
     "metadata": {
      "needs_background": "light"
     },
     "output_type": "display_data"
    }
   ],
   "source": [
    "#graph of top products purchased\n",
    "figure1 = df_filtered.groupby(['department_id','product_name'])['price'].agg('sum').sort_values(ascending=False).head(15).plot.bar()"
   ]
  },
  {
   "cell_type": "code",
   "execution_count": 7,
   "id": "e8511e51",
   "metadata": {},
   "outputs": [],
   "source": [
    "#saving the image within desktop folder - added visualizations\n",
    "figure1.figure.savefig(os.path.join(path, '04 Analysis','Visualizations', 'bar_ACTIVE_target_dept_product.jpg'),bbox_inches='tight')"
   ]
  },
  {
   "cell_type": "code",
   "execution_count": 9,
   "id": "3ea5d140",
   "metadata": {},
   "outputs": [
    {
     "data": {
      "text/plain": [
       "region\n",
       "South        2.300397e+10\n",
       "West         1.808608e+10\n",
       "Midwest      1.589468e+10\n",
       "Northeast    1.257379e+10\n",
       "Name: total_spent, dtype: float64"
      ]
     },
     "execution_count": 9,
     "metadata": {},
     "output_type": "execute_result"
    }
   ],
   "source": [
    "#try to see regions\n",
    "df_filtered.groupby(['region'])['total_spent'].agg('sum').sort_values(ascending=False)"
   ]
  },
  {
   "cell_type": "code",
   "execution_count": 11,
   "id": "e693fd93",
   "metadata": {},
   "outputs": [
    {
     "data": {
      "image/png": "[encoded data removed]",
      "text/plain": [
       "<Figure size 432x288 with 1 Axes>"
      ]
     },
     "metadata": {
      "needs_background": "light"
     },
     "output_type": "display_data"
    }
   ],
   "source": [
    "figure2 = df_filtered.groupby(['region'])['total_spent'].agg('sum').sort_values(ascending=False).plot.bar()"
   ]
  },
  {
   "cell_type": "code",
   "execution_count": 12,
   "id": "9e477193",
   "metadata": {},
   "outputs": [],
   "source": [
    "#saving the image within desktop folder - added visualizations\n",
    "figure2.figure.savefig(os.path.join(path, '04 Analysis','Visualizations', 'bar_ACTIVE_target_region.jpg'),bbox_inches='tight')"
   ]
  },
  {
   "cell_type": "code",
   "execution_count": 18,
   "id": "3895fed5",
   "metadata": {},
   "outputs": [
    {
     "data": {
      "text/html": [
       "<div>\n",
       "<style scoped>\n",
       "    .dataframe tbody tr th:only-of-type {\n",
       "        vertical-align: middle;\n",
       "    }\n",
       "\n",
       "    .dataframe tbody tr th {\n",
       "        vertical-align: top;\n",
       "    }\n",
       "\n",
       "    .dataframe thead tr th {\n",
       "        text-align: left;\n",
       "    }\n",
       "\n",
       "    .dataframe thead tr:last-of-type th {\n",
       "        text-align: right;\n",
       "    }\n",
       "</style>\n",
       "<table border=\"1\" class=\"dataframe\">\n",
       "  <thead>\n",
       "    <tr>\n",
       "      <th></th>\n",
       "      <th colspan=\"4\" halign=\"left\">total_spent</th>\n",
       "    </tr>\n",
       "    <tr>\n",
       "      <th></th>\n",
       "      <th>sum</th>\n",
       "      <th>mean</th>\n",
       "      <th>min</th>\n",
       "      <th>max</th>\n",
       "    </tr>\n",
       "    <tr>\n",
       "      <th>value_flag</th>\n",
       "      <th></th>\n",
       "      <th></th>\n",
       "      <th></th>\n",
       "      <th></th>\n",
       "    </tr>\n",
       "  </thead>\n",
       "  <tbody>\n",
       "    <tr>\n",
       "      <th>not target</th>\n",
       "      <td>2.970266e+10</td>\n",
       "      <td>3478.972143</td>\n",
       "      <td>6.0</td>\n",
       "      <td>23926.5</td>\n",
       "    </tr>\n",
       "    <tr>\n",
       "      <th>target shopper</th>\n",
       "      <td>6.955852e+10</td>\n",
       "      <td>3455.110112</td>\n",
       "      <td>6.0</td>\n",
       "      <td>25792.9</td>\n",
       "    </tr>\n",
       "  </tbody>\n",
       "</table>\n",
       "</div>"
      ],
      "text/plain": [
       "                 total_spent                           \n",
       "                         sum         mean  min      max\n",
       "value_flag                                             \n",
       "not target      2.970266e+10  3478.972143  6.0  23926.5\n",
       "target shopper  6.955852e+10  3455.110112  6.0  25792.9"
      ]
     },
     "execution_count": 18,
     "metadata": {},
     "output_type": "execute_result"
    }
   ],
   "source": [
    "#try to see total spent\n",
    "df_active.groupby('value_flag').agg({'total_spent': ['sum','mean', 'min', 'max']})"
   ]
  },
  {
   "cell_type": "code",
   "execution_count": 19,
   "id": "6e99eafa",
   "metadata": {},
   "outputs": [
    {
     "data": {
      "text/html": [
       "<div>\n",
       "<style scoped>\n",
       "    .dataframe tbody tr th:only-of-type {\n",
       "        vertical-align: middle;\n",
       "    }\n",
       "\n",
       "    .dataframe tbody tr th {\n",
       "        vertical-align: top;\n",
       "    }\n",
       "\n",
       "    .dataframe thead tr th {\n",
       "        text-align: left;\n",
       "    }\n",
       "\n",
       "    .dataframe thead tr:last-of-type th {\n",
       "        text-align: right;\n",
       "    }\n",
       "</style>\n",
       "<table border=\"1\" class=\"dataframe\">\n",
       "  <thead>\n",
       "    <tr>\n",
       "      <th></th>\n",
       "      <th colspan=\"3\" halign=\"left\">max_order</th>\n",
       "    </tr>\n",
       "    <tr>\n",
       "      <th></th>\n",
       "      <th>mean</th>\n",
       "      <th>min</th>\n",
       "      <th>max</th>\n",
       "    </tr>\n",
       "    <tr>\n",
       "      <th>value_flag</th>\n",
       "      <th></th>\n",
       "      <th></th>\n",
       "      <th></th>\n",
       "    </tr>\n",
       "  </thead>\n",
       "  <tbody>\n",
       "    <tr>\n",
       "      <th>not target</th>\n",
       "      <td>36.243737</td>\n",
       "      <td>6</td>\n",
       "      <td>99</td>\n",
       "    </tr>\n",
       "    <tr>\n",
       "      <th>target shopper</th>\n",
       "      <td>35.818584</td>\n",
       "      <td>6</td>\n",
       "      <td>99</td>\n",
       "    </tr>\n",
       "  </tbody>\n",
       "</table>\n",
       "</div>"
      ],
      "text/plain": [
       "                max_order        \n",
       "                     mean min max\n",
       "value_flag                       \n",
       "not target      36.243737   6  99\n",
       "target shopper  35.818584   6  99"
      ]
     },
     "execution_count": 19,
     "metadata": {},
     "output_type": "execute_result"
    }
   ],
   "source": [
    "#try to see max_order\n",
    "df_active.groupby('value_flag').agg({'max_order': ['mean', 'min', 'max']})"
   ]
  },
  {
   "cell_type": "code",
   "execution_count": 20,
   "id": "07551f69",
   "metadata": {},
   "outputs": [
    {
     "data": {
      "text/html": [
       "<div>\n",
       "<style scoped>\n",
       "    .dataframe tbody tr th:only-of-type {\n",
       "        vertical-align: middle;\n",
       "    }\n",
       "\n",
       "    .dataframe tbody tr th {\n",
       "        vertical-align: top;\n",
       "    }\n",
       "\n",
       "    .dataframe thead tr th {\n",
       "        text-align: left;\n",
       "    }\n",
       "\n",
       "    .dataframe thead tr:last-of-type th {\n",
       "        text-align: right;\n",
       "    }\n",
       "</style>\n",
       "<table border=\"1\" class=\"dataframe\">\n",
       "  <thead>\n",
       "    <tr>\n",
       "      <th></th>\n",
       "      <th colspan=\"3\" halign=\"left\">days_since_prior_order</th>\n",
       "    </tr>\n",
       "    <tr>\n",
       "      <th></th>\n",
       "      <th>mean</th>\n",
       "      <th>min</th>\n",
       "      <th>max</th>\n",
       "    </tr>\n",
       "    <tr>\n",
       "      <th>value_flag</th>\n",
       "      <th></th>\n",
       "      <th></th>\n",
       "      <th></th>\n",
       "    </tr>\n",
       "  </thead>\n",
       "  <tbody>\n",
       "    <tr>\n",
       "      <th>not target</th>\n",
       "      <td>10.605270</td>\n",
       "      <td>0.0</td>\n",
       "      <td>30.0</td>\n",
       "    </tr>\n",
       "    <tr>\n",
       "      <th>target shopper</th>\n",
       "      <td>10.645521</td>\n",
       "      <td>0.0</td>\n",
       "      <td>30.0</td>\n",
       "    </tr>\n",
       "  </tbody>\n",
       "</table>\n",
       "</div>"
      ],
      "text/plain": [
       "               days_since_prior_order           \n",
       "                                 mean  min   max\n",
       "value_flag                                      \n",
       "not target                  10.605270  0.0  30.0\n",
       "target shopper              10.645521  0.0  30.0"
      ]
     },
     "execution_count": 20,
     "metadata": {},
     "output_type": "execute_result"
    }
   ],
   "source": [
    "#try to see days since prior order\n",
    "df_active.groupby('value_flag').agg({'days_since_prior_order': ['mean', 'min', 'max']})"
   ]
  },
  {
   "cell_type": "code",
   "execution_count": null,
   "id": "836a5d73",
   "metadata": {},
   "outputs": [],
   "source": []
  }
 ],
 "metadata": {
  "kernelspec": {
   "display_name": "Python 3 (ipykernel)",
   "language": "python",
   "name": "python3"
  },
  "language_info": {
   "codemirror_mode": {
    "name": "ipython",
    "version": 3
   },
   "file_extension": ".py",
   "mimetype": "text/x-python",
   "name": "python",
   "nbconvert_exporter": "python",
   "pygments_lexer": "ipython3",
   "version": "3.9.7"
  }
 },
 "nbformat": 4,
 "nbformat_minor": 5
}
