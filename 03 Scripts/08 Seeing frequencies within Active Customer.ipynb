{
 "cells": [
  {
   "cell_type": "markdown",
   "id": "a11303d3",
   "metadata": {},
   "source": [
    "# Summary of things I want to look into further\n",
    "    Before creating a profile... need to examine the new dataset of active customers to better determine a helpful profile\n",
    "    Most orders: Day of week = 0 and 1\n",
    "    Most orders: Hour of day = 10, 11, 14, 13, 15, 12, 16 and 9 (so we have morning, early afternoon and after work orders)\n",
    "        Figure out a way to create a flag based on when orders happen based on hour\n",
    "        See if there is a way to merge the 0 and 1 into the hours\n",
    "        See when most money is spent for the hour of day\n",
    "    Days since prior order: highest = 7 (so we have weekly shoppers)\n",
    "        What do they purchase?\n",
    "    Added to cart: That doesn't seem to have much value\n",
    "    Reordered: many items reordered\n",
    "        What's reordered? Either look at it as an item OR department\n",
    "    Aisle id most orders occur: 24, 83, 123, 120\n",
    "    Deparment id: 4 & 16\n",
    "    Highest frequency of price value: 12.3, 10.3, 4, 6.3, 1.3\n",
    "    Age: not helpful - frequency of one age group over another is not easily seen\n",
    "    Dependents: equal frequency of all options - not helpful\n",
    "    Highest frequency of income: 72,334; 112,610; 57,501; 115,620\n",
    "    Max order highest frequencies: 99 (with a count of 1,157,589), then big drop off to 9 and 8\n",
    "        Who are these very frequent fliers? What do they order? How much is spent?\n",
    "    Highest frequency of total spent: 25,792.9; 23,926.5; 9739.2; 13291.9\n",
    "    Highest frequency of median_days_prior_order: 7 \n",
    "    \n",
    "    NOTE: I could not have a frequency visual for all of the above. My computer bogged down and didn't do it. I had memory problems trying to use other libraries I installed: sweetviz, dataprep and pandas profiling\n",
    "    "
   ]
  },
  {
   "cell_type": "markdown",
   "id": "3f39f64b",
   "metadata": {},
   "source": [
    "# Summary of Active Customer Data\n",
    "    notes\n",
    "        day_of_week_ordered ranges from 0-6\n",
    "        hour_of_day_ordered ranges from 0 -23\n",
    "        days_since_prior_order ranges from 0 - 30\n",
    "        add_to_cart_order ranges from 1 to 145 (I had checked this previously and yes, some customers had large orders)\n",
    "        reordered ranges from 0-1 (this is correct - those are the only options)\n",
    "        aisle_id ranges from 1 to 134\n",
    "        department_id ranges from 1-21\n",
    "        price ranges from 1 to 25\n",
    "        age ranges from 18 to 81\n",
    "        dependents ranges from 0 to 3\n",
    "        income ranges from 25903 to 593901\n",
    "        max_order ranges from 6 to 99\n",
    "        total_spent ranges from 6 to 25792.9\n",
    "        median_days_prior_ord ranges from 0 to 30"
   ]
  },
  {
   "cell_type": "code",
   "execution_count": 1,
   "id": "367eb70f",
   "metadata": {},
   "outputs": [],
   "source": [
    "#importing libraries\n",
    "import pandas as pd\n",
    "import numpy as np\n",
    "import os\n",
    "import matplotlib.pyplot as plt\n",
    "import seaborn as sns\n",
    "import scipy\n",
    "import datetime as dt"
   ]
  },
  {
   "cell_type": "code",
   "execution_count": 2,
   "id": "e3d9ca77",
   "metadata": {},
   "outputs": [],
   "source": [
    "#import csv customers dataframe\n",
    "df_active = pd.read_pickle(r'C:\\Users\\Selena\\Desktop\\3-22 Instacart Basket Analysis\\04 Analysis\\active_all_plus_regions.pkl')\n",
    "path = r'C:\\Users\\Selena\\Desktop\\3-22 Instacart Basket Analysis'\n",
    "df_active = pd.read_pickle(os.path.join(path, '04 Analysis', 'active_all_plus_regions.pkl'))"
   ]
  },
  {
   "cell_type": "code",
   "execution_count": 3,
   "id": "edc2df79",
   "metadata": {},
   "outputs": [
    {
     "data": {
      "text/plain": [
       "<AxesSubplot:>"
      ]
     },
     "execution_count": 3,
     "metadata": {},
     "output_type": "execute_result"
    },
    {
     "data": {
      "image/png": "[encoded data removed]",
      "text/plain": [
       "<Figure size 432x288 with 1 Axes>"
      ]
     },
     "metadata": {
      "needs_background": "light"
     },
     "output_type": "display_data"
    }
   ],
   "source": [
    "#I assume - bar chart of when orders placed sorted highest to lowest = default\n",
    "df_active['day_of_week_ordered'].value_counts().plot.bar()"
   ]
  },
  {
   "cell_type": "code",
   "execution_count": 4,
   "id": "8e53f4ad",
   "metadata": {},
   "outputs": [
    {
     "data": {
      "image/png": "[encoded data removed]",
      "text/plain": [
       "<Figure size 432x288 with 1 Axes>"
      ]
     },
     "metadata": {
      "needs_background": "light"
     },
     "output_type": "display_data"
    }
   ],
   "source": [
    "#saving the bar graph as something to export\n",
    "bar1 = df_active['day_of_week_ordered'].value_counts().plot.bar()"
   ]
  },
  {
   "cell_type": "code",
   "execution_count": 5,
   "id": "0e4a2cc7",
   "metadata": {},
   "outputs": [],
   "source": [
    "#saving the image within desktop folder - added visualizations\n",
    "bar1.figure.savefig(os.path.join(path, '04 Analysis','Visualizations', 'bar_orders_dow.png'))"
   ]
  },
  {
   "cell_type": "code",
   "execution_count": 6,
   "id": "9ad86140",
   "metadata": {},
   "outputs": [
    {
     "data": {
      "text/plain": [
       "<AxesSubplot:>"
      ]
     },
     "execution_count": 6,
     "metadata": {},
     "output_type": "execute_result"
    },
    {
     "data": {
      "image/png": "[encoded data removed]",
      "text/plain": [
       "<Figure size 432x288 with 1 Axes>"
      ]
     },
     "metadata": {
      "needs_background": "light"
     },
     "output_type": "display_data"
    }
   ],
   "source": [
    "#I assume - bar chart of when orders placed sorted highest to lowest = default\n",
    "df_active['hour_of_day_ordered'].value_counts().plot.bar()"
   ]
  },
  {
   "cell_type": "code",
   "execution_count": 7,
   "id": "625f4f72",
   "metadata": {},
   "outputs": [
    {
     "data": {
      "image/png": "[encoded data removed]",
      "text/plain": [
       "<Figure size 432x288 with 1 Axes>"
      ]
     },
     "metadata": {
      "needs_background": "light"
     },
     "output_type": "display_data"
    }
   ],
   "source": [
    "#saving the bar graph as something to export\n",
    "bar2 = df_active['hour_of_day_ordered'].value_counts().plot.bar()"
   ]
  },
  {
   "cell_type": "code",
   "execution_count": 8,
   "id": "316958e7",
   "metadata": {},
   "outputs": [],
   "source": [
    "#saving the image within desktop folder - added visualizations\n",
    "bar2.figure.savefig(os.path.join(path, '04 Analysis','Visualizations', 'bar_orders_hour_of_day.png'))"
   ]
  },
  {
   "cell_type": "code",
   "execution_count": 9,
   "id": "f762ffe7",
   "metadata": {},
   "outputs": [
    {
     "data": {
      "text/plain": [
       "<AxesSubplot:>"
      ]
     },
     "execution_count": 9,
     "metadata": {},
     "output_type": "execute_result"
    },
    {
     "data": {
      "image/png": "[encoded data removed]",
      "text/plain": [
       "<Figure size 432x288 with 1 Axes>"
      ]
     },
     "metadata": {
      "needs_background": "light"
     },
     "output_type": "display_data"
    }
   ],
   "source": [
    "#I assume - bar chart of time between orders sorted highest to lowest = default\n",
    "df_active['days_since_prior_order'].value_counts().plot.bar()"
   ]
  },
  {
   "cell_type": "code",
   "execution_count": 10,
   "id": "3bc51fe5",
   "metadata": {},
   "outputs": [
    {
     "data": {
      "image/png": "[encoded data removed]",
      "text/plain": [
       "<Figure size 432x288 with 1 Axes>"
      ]
     },
     "metadata": {
      "needs_background": "light"
     },
     "output_type": "display_data"
    }
   ],
   "source": [
    "#saving as something to export\n",
    "bar3 = df_active['days_since_prior_order'].value_counts().plot.bar()"
   ]
  },
  {
   "cell_type": "code",
   "execution_count": 11,
   "id": "562ddb4f",
   "metadata": {},
   "outputs": [],
   "source": [
    "#saving the image within desktop folder - added visualizations\n",
    "bar3.figure.savefig(os.path.join(path, '04 Analysis','Visualizations', 'bar_days_since_prior_order.png'))"
   ]
  },
  {
   "cell_type": "code",
   "execution_count": 12,
   "id": "20ab720b",
   "metadata": {},
   "outputs": [
    {
     "data": {
      "text/plain": [
       "<AxesSubplot:>"
      ]
     },
     "execution_count": 12,
     "metadata": {},
     "output_type": "execute_result"
    },
    {
     "data": {
      "image/png": "[encoded data removed]",
      "text/plain": [
       "<Figure size 432x288 with 1 Axes>"
      ]
     },
     "metadata": {
      "needs_background": "light"
     },
     "output_type": "display_data"
    }
   ],
   "source": [
    "#I assume - bar chart of when orders placed in card sorted highest to lowest = default\n",
    "df_active['add_to_cart_order'].value_counts().plot.bar()"
   ]
  },
  {
   "cell_type": "code",
   "execution_count": 13,
   "id": "dc6f6c7b",
   "metadata": {},
   "outputs": [
    {
     "data": {
      "text/plain": [
       "<AxesSubplot:ylabel='Frequency'>"
      ]
     },
     "execution_count": 13,
     "metadata": {},
     "output_type": "execute_result"
    },
    {
     "data": {
      "image/png": "[encoded data removed]",
      "text/plain": [
       "<Figure size 432x288 with 1 Axes>"
      ]
     },
     "metadata": {
      "needs_background": "light"
     },
     "output_type": "display_data"
    }
   ],
   "source": [
    "#creating a histogram of add to cart order\n",
    "df_active['add_to_cart_order'].plot.hist(bins = 150)"
   ]
  },
  {
   "cell_type": "code",
   "execution_count": 14,
   "id": "4bc6b673",
   "metadata": {},
   "outputs": [
    {
     "data": {
      "text/plain": [
       "<AxesSubplot:>"
      ]
     },
     "execution_count": 14,
     "metadata": {},
     "output_type": "execute_result"
    },
    {
     "data": {
      "image/png": "[encoded data removed]",
      "text/plain": [
       "<Figure size 432x288 with 1 Axes>"
      ]
     },
     "metadata": {
      "needs_background": "light"
     },
     "output_type": "display_data"
    }
   ],
   "source": [
    "#I assume - bar chart of reordered sorted highest to lowest = default\n",
    "df_active['reordered'].value_counts().plot.bar()"
   ]
  },
  {
   "cell_type": "code",
   "execution_count": 15,
   "id": "b91a75b2",
   "metadata": {},
   "outputs": [
    {
     "data": {
      "text/plain": [
       "<AxesSubplot:>"
      ]
     },
     "execution_count": 15,
     "metadata": {},
     "output_type": "execute_result"
    },
    {
     "data": {
      "image/png": "[encoded data removed]",
      "text/plain": [
       "<Figure size 432x288 with 1 Axes>"
      ]
     },
     "metadata": {
      "needs_background": "light"
     },
     "output_type": "display_data"
    }
   ],
   "source": [
    "#I assume - bar chart of aisle sorted highest to lowest = default\n",
    "df_active['aisle_id'].value_counts().plot.bar()"
   ]
  },
  {
   "cell_type": "code",
   "execution_count": 16,
   "id": "81601ca2",
   "metadata": {},
   "outputs": [
    {
     "data": {
      "text/plain": [
       "24     3262723\n",
       "83     3026268\n",
       "123    1567401\n",
       "120    1296382\n",
       "21      865864\n",
       "        ...   \n",
       "102       7709\n",
       "82        7482\n",
       "44        7427\n",
       "132       5324\n",
       "113       4257\n",
       "Name: aisle_id, Length: 134, dtype: int64"
      ]
     },
     "execution_count": 16,
     "metadata": {},
     "output_type": "execute_result"
    }
   ],
   "source": [
    "#and the same non-visual way of seeing the data sorted in same way as indexed\n",
    "df_active['aisle_id'].value_counts(dropna = False)"
   ]
  },
  {
   "cell_type": "code",
   "execution_count": 17,
   "id": "5c6332d8",
   "metadata": {},
   "outputs": [
    {
     "data": {
      "text/plain": [
       "<AxesSubplot:>"
      ]
     },
     "execution_count": 17,
     "metadata": {},
     "output_type": "execute_result"
    },
    {
     "data": {
      "image/png": "[encoded data removed]",
      "text/plain": [
       "<Figure size 432x288 with 1 Axes>"
      ]
     },
     "metadata": {
      "needs_background": "light"
     },
     "output_type": "display_data"
    }
   ],
   "source": [
    "#I assume - bar chart of department sorted highest to lowest = default\n",
    "df_active['department_id'].value_counts().plot.bar()"
   ]
  },
  {
   "cell_type": "code",
   "execution_count": 18,
   "id": "38c9a512",
   "metadata": {},
   "outputs": [
    {
     "data": {
      "image/png": "[encoded data removed]",
      "text/plain": [
       "<Figure size 432x288 with 1 Axes>"
      ]
     },
     "metadata": {
      "needs_background": "light"
     },
     "output_type": "display_data"
    }
   ],
   "source": [
    "#saving the image within desktop folder - added visualizations\n",
    "bar4 = df_active['department_id'].value_counts().plot.bar()"
   ]
  },
  {
   "cell_type": "code",
   "execution_count": 19,
   "id": "71c3e600",
   "metadata": {},
   "outputs": [],
   "source": [
    "#saving the image within desktop folder - added visualizations\n",
    "bar4.figure.savefig(os.path.join(path, '04 Analysis','Visualizations', 'bar_department_frequency.png'))"
   ]
  },
  {
   "cell_type": "code",
   "execution_count": 20,
   "id": "7ab73c41",
   "metadata": {},
   "outputs": [
    {
     "data": {
      "text/plain": [
       "<AxesSubplot:>"
      ]
     },
     "execution_count": 20,
     "metadata": {},
     "output_type": "execute_result"
    },
    {
     "data": {
      "image/png": "[encoded data removed]",
      "text/plain": [
       "<Figure size 432x288 with 1 Axes>"
      ]
     },
     "metadata": {
      "needs_background": "light"
     },
     "output_type": "display_data"
    }
   ],
   "source": [
    "#I assume - bar chart of price sorted highest to lowest = default\n",
    "df_active['price'].value_counts().plot.bar()"
   ]
  },
  {
   "cell_type": "code",
   "execution_count": 21,
   "id": "ac3c7ff1",
   "metadata": {},
   "outputs": [
    {
     "data": {
      "text/plain": [
       "<AxesSubplot:ylabel='Frequency'>"
      ]
     },
     "execution_count": 21,
     "metadata": {},
     "output_type": "execute_result"
    },
    {
     "data": {
      "image/png": "[encoded data removed]",
      "text/plain": [
       "<Figure size 432x288 with 1 Axes>"
      ]
     },
     "metadata": {
      "needs_background": "light"
     },
     "output_type": "display_data"
    }
   ],
   "source": [
    "#creating a histogram of prices\n",
    "df_active['price'].plot.hist(bins = 100)"
   ]
  },
  {
   "cell_type": "code",
   "execution_count": 22,
   "id": "566f3fea",
   "metadata": {},
   "outputs": [
    {
     "data": {
      "text/plain": [
       "12.3    553813\n",
       "10.3    460074\n",
       "4.0     400763\n",
       "6.3     384451\n",
       "1.3     377654\n",
       "         ...  \n",
       "20.2       105\n",
       "22.7        86\n",
       "21.5        68\n",
       "18.3         9\n",
       "21.0         7\n",
       "Name: price, Length: 240, dtype: int64"
      ]
     },
     "execution_count": 22,
     "metadata": {},
     "output_type": "execute_result"
    }
   ],
   "source": [
    "#and the same non-visual way of seeing the data sorted in same way as indexed\n",
    "df_active['price'].value_counts(dropna = False)"
   ]
  },
  {
   "cell_type": "code",
   "execution_count": 23,
   "id": "0b7b379a",
   "metadata": {},
   "outputs": [
    {
     "data": {
      "text/plain": [
       "<AxesSubplot:>"
      ]
     },
     "execution_count": 23,
     "metadata": {},
     "output_type": "execute_result"
    },
    {
     "data": {
      "image/png": "[encoded data removed]",
      "text/plain": [
       "<Figure size 432x288 with 1 Axes>"
      ]
     },
     "metadata": {
      "needs_background": "light"
     },
     "output_type": "display_data"
    }
   ],
   "source": [
    "#I assume - bar chart of price sorted highest to lowest = default\n",
    "df_active['age'].value_counts().plot.bar()"
   ]
  },
  {
   "cell_type": "code",
   "execution_count": 24,
   "id": "4f43bca0",
   "metadata": {},
   "outputs": [
    {
     "data": {
      "text/plain": [
       "<AxesSubplot:ylabel='Frequency'>"
      ]
     },
     "execution_count": 24,
     "metadata": {},
     "output_type": "execute_result"
    },
    {
     "data": {
      "image/png": "[encoded data removed]",
      "text/plain": [
       "<Figure size 432x288 with 1 Axes>"
      ]
     },
     "metadata": {
      "needs_background": "light"
     },
     "output_type": "display_data"
    }
   ],
   "source": [
    "#creating a histogram of age\n",
    "df_active['age'].plot.hist(bins = 150)"
   ]
  },
  {
   "cell_type": "code",
   "execution_count": 25,
   "id": "b7de4f1b",
   "metadata": {},
   "outputs": [
    {
     "data": {
      "image/png": "[encoded data removed]",
      "text/plain": [
       "<Figure size 432x288 with 1 Axes>"
      ]
     },
     "metadata": {
      "needs_background": "light"
     },
     "output_type": "display_data"
    }
   ],
   "source": [
    "#saving the image within desktop folder - added visualizations\n",
    "hist1 = df_active['age'].plot.hist(bins = 150)"
   ]
  },
  {
   "cell_type": "code",
   "execution_count": 26,
   "id": "69fdd433",
   "metadata": {},
   "outputs": [],
   "source": [
    "#saving the image within desktop folder - added visualizations\n",
    "hist1.figure.savefig(os.path.join(path, '04 Analysis','Visualizations', 'hist_age_frequency.png'))"
   ]
  },
  {
   "cell_type": "code",
   "execution_count": 27,
   "id": "145e4f73",
   "metadata": {},
   "outputs": [
    {
     "data": {
      "text/plain": [
       "<AxesSubplot:>"
      ]
     },
     "execution_count": 27,
     "metadata": {},
     "output_type": "execute_result"
    },
    {
     "data": {
      "image/png": "[encoded data removed]",
      "text/plain": [
       "<Figure size 432x288 with 1 Axes>"
      ]
     },
     "metadata": {
      "needs_background": "light"
     },
     "output_type": "display_data"
    }
   ],
   "source": [
    "#I assume - bar chart of dependents sorted highest to lowest = default\n",
    "df_active['dependents'].value_counts().plot.bar()"
   ]
  },
  {
   "cell_type": "code",
   "execution_count": 28,
   "id": "01213854",
   "metadata": {},
   "outputs": [
    {
     "data": {
      "image/png": "[encoded data removed]",
      "text/plain": [
       "<Figure size 432x288 with 1 Axes>"
      ]
     },
     "metadata": {
      "needs_background": "light"
     },
     "output_type": "display_data"
    }
   ],
   "source": [
    "#saving the image within desktop folder - added visualizations\n",
    "bar5 = df_active['dependents'].value_counts().plot.bar()"
   ]
  },
  {
   "cell_type": "code",
   "execution_count": 29,
   "id": "40f04e73",
   "metadata": {},
   "outputs": [],
   "source": [
    "#saving the image within desktop folder - added visualizations\n",
    "bar5.figure.savefig(os.path.join(path, '04 Analysis','Visualizations', 'bar_dependents_frequency.png'))"
   ]
  },
  {
   "cell_type": "code",
   "execution_count": 30,
   "id": "253531c8",
   "metadata": {},
   "outputs": [
    {
     "data": {
      "text/plain": [
       "72344     4298\n",
       "112610    4137\n",
       "57501     4085\n",
       "115620    3774\n",
       "36163     3579\n",
       "          ... \n",
       "31343        5\n",
       "102914       5\n",
       "47305        5\n",
       "37435        5\n",
       "147660       1\n",
       "Name: income, Length: 90753, dtype: int64"
      ]
     },
     "execution_count": 30,
     "metadata": {},
     "output_type": "execute_result"
    }
   ],
   "source": [
    "#and the same non-visual way of seeing the income data - I was unable to create a bar graph due to long run time\n",
    "df_active['income'].value_counts(dropna = False)"
   ]
  },
  {
   "cell_type": "code",
   "execution_count": 31,
   "id": "6bfc5b24",
   "metadata": {},
   "outputs": [
    {
     "data": {
      "text/plain": [
       "<AxesSubplot:>"
      ]
     },
     "execution_count": 31,
     "metadata": {},
     "output_type": "execute_result"
    },
    {
     "data": {
      "image/png": "[encoded data removed]",
      "text/plain": [
       "<Figure size 432x288 with 1 Axes>"
      ]
     },
     "metadata": {
      "needs_background": "light"
     },
     "output_type": "display_data"
    }
   ],
   "source": [
    "#I assume - bar chart of max order sorted highest to lowest = default\n",
    "df_active['max_order'].value_counts().plot.bar()"
   ]
  },
  {
   "cell_type": "code",
   "execution_count": 32,
   "id": "ce17b055",
   "metadata": {},
   "outputs": [
    {
     "data": {
      "text/plain": [
       "99    1157589\n",
       "9      720077\n",
       "8      710482\n",
       "11     699693\n",
       "10     696043\n",
       "       ...   \n",
       "93      49674\n",
       "90      47750\n",
       "97      44452\n",
       "98      44112\n",
       "96      40045\n",
       "Name: max_order, Length: 94, dtype: int64"
      ]
     },
     "execution_count": 32,
     "metadata": {},
     "output_type": "execute_result"
    }
   ],
   "source": [
    "#and the same non-visual way of seeing the max order data - I was unable to create a bar graph due to long run time\n",
    "df_active['max_order'].value_counts(dropna = False)"
   ]
  },
  {
   "cell_type": "code",
   "execution_count": 33,
   "id": "23bb04e1",
   "metadata": {},
   "outputs": [
    {
     "data": {
      "text/plain": [
       "25792.9    3616\n",
       "23926.5    3579\n",
       "9739.2     3551\n",
       "13291.9    3463\n",
       "7913.8     3035\n",
       "           ... \n",
       "15.3          5\n",
       "19.3          5\n",
       "29.3          5\n",
       "48.1          5\n",
       "27.0          5\n",
       "Name: total_spent, Length: 45121, dtype: int64"
      ]
     },
     "execution_count": 33,
     "metadata": {},
     "output_type": "execute_result"
    }
   ],
   "source": [
    "#non-visual way of seeing the total spend data - I was unable to create a bar graph due to long run time\n",
    "df_active['total_spent'].value_counts(dropna = False)"
   ]
  },
  {
   "cell_type": "code",
   "execution_count": 34,
   "id": "d9d91cd6",
   "metadata": {},
   "outputs": [
    {
     "data": {
      "text/plain": [
       "7.0     5351257\n",
       "6.0     2818003\n",
       "8.0     2509701\n",
       "5.0     2372003\n",
       "4.0     2224859\n",
       "         ...   \n",
       "27.5       3562\n",
       "26.5       3264\n",
       "29.5       3086\n",
       "1.5        1364\n",
       "0.5          62\n",
       "Name: median_days_prior_ord, Length: 61, dtype: int64"
      ]
     },
     "execution_count": 34,
     "metadata": {},
     "output_type": "execute_result"
    }
   ],
   "source": [
    "#non-visual way of seeing the median days prior order data - I was unable to create a bar graph due to long run time\n",
    "df_active['median_days_prior_ord'].value_counts(dropna = False)"
   ]
  },
  {
   "cell_type": "code",
   "execution_count": 35,
   "id": "28ccac24",
   "metadata": {},
   "outputs": [
    {
     "name": "stdout",
     "output_type": "stream",
     "text": [
      "<class 'pandas.core.frame.DataFrame'>\n",
      "Int64Index: 28669841 entries, 0 to 30330083\n",
      "Data columns (total 30 columns):\n",
      " #   Column                  Dtype         \n",
      "---  ------                  -----         \n",
      " 0   order_id                int32         \n",
      " 1   user_id                 int32         \n",
      " 2   order_number            int16         \n",
      " 3   day_of_week_ordered     int16         \n",
      " 4   hour_of_day_ordered     int16         \n",
      " 5   days_since_prior_order  float64       \n",
      " 6   product_id              int32         \n",
      " 7   add_to_cart_order       int16         \n",
      " 8   reordered               int16         \n",
      " 9   product_name            category      \n",
      " 10  aisle_id                int16         \n",
      " 11  department_id           int16         \n",
      " 12  price                   float64       \n",
      " 13  gender                  category      \n",
      " 14  state                   category      \n",
      " 15  age                     int16         \n",
      " 16  date_joined             datetime64[ns]\n",
      " 17  dependents              int16         \n",
      " 18  living_situation        category      \n",
      " 19  income                  int32         \n",
      " 20  price_range_loc         category      \n",
      " 21  busiest_day             category      \n",
      " 22  busiest_period_of_day   category      \n",
      " 23  max_order               int16         \n",
      " 24  loyalty_flag            category      \n",
      " 25  total_spent             float64       \n",
      " 26  spender_flag            category      \n",
      " 27  median_days_prior_ord   float64       \n",
      " 28  frequency_flag          category      \n",
      " 29  region                  category      \n",
      "dtypes: category(11), datetime64[ns](1), float64(4), int16(10), int32(4)\n",
      "memory usage: 2.6 GB\n"
     ]
    }
   ],
   "source": [
    "df_active.info()"
   ]
  },
  {
   "cell_type": "code",
   "execution_count": null,
   "id": "a7b2a1fc",
   "metadata": {},
   "outputs": [],
   "source": []
  }
 ],
 "metadata": {
  "kernelspec": {
   "display_name": "Python 3 (ipykernel)",
   "language": "python",
   "name": "python3"
  },
  "language_info": {
   "codemirror_mode": {
    "name": "ipython",
    "version": 3
   },
   "file_extension": ".py",
   "mimetype": "text/x-python",
   "name": "python",
   "nbconvert_exporter": "python",
   "pygments_lexer": "ipython3",
   "version": "3.9.7"
  }
 },
 "nbformat": 4,
 "nbformat_minor": 5
}
