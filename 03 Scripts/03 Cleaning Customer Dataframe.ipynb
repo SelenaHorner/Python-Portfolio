{
 "cells": [
  {
   "cell_type": "markdown",
   "id": "d3a490c0",
   "metadata": {},
   "source": [
    "# Summary of Notebook\n",
    "    Exported datafram 206209 rows\n",
    "    Exported as pickle\n",
    "    Saved as: cust_cleaned\n",
    "    Dropped first and last name columns"
   ]
  },
  {
   "cell_type": "markdown",
   "id": "43231c92",
   "metadata": {},
   "source": [
    "# Summary of Previous Notebook\n",
    "    Exported dataframe had 206209 rows\n",
    "    Exported as pickle named: cust_ready_to_clean\n",
    "    user_id = datatype int32\n",
    "    Used dataprep to analyze customer dataframe\n",
    "    Privacy issues: has first and last name\n",
    "    First name has missing data 11,259 or 5.5% of the column\n",
    "    No duplicates\n",
    "    Low correlation between age and income: .4\n",
    "    Gender is distributed 50/50\n",
    "    Each state has a 4055 count\n",
    "    Age ranges from 18 to 81\n",
    "    Dependents ranges from 0 to 3 with a 25% distribution of each number of dependents\n",
    "    Living situation:70.2% indicated married status\n",
    "    Living situation may have overlapping info: living with parents, widowed/divorced and single may overlap depending on the person's interpretation\n",
    "    Income ranged from $25,903 to $593,901\n",
    "    Renamed columns\n",
    "    Changed datatype to reduce memory"
   ]
  },
  {
   "cell_type": "code",
   "execution_count": 1,
   "id": "60940ee0",
   "metadata": {},
   "outputs": [],
   "source": [
    "#importing libraries\n",
    "import pandas as pd\n",
    "import numpy as np\n",
    "import os\n",
    "import matplotlib.pyplot as plt\n",
    "import seaborn as sns\n",
    "import scipy\n",
    "import datetime as dt"
   ]
  },
  {
   "cell_type": "code",
   "execution_count": 2,
   "id": "5a59c710",
   "metadata": {},
   "outputs": [],
   "source": [
    "#import csv customers dataframe\n",
    "df_cust = pd.read_pickle(r'C:\\Users\\Selena\\Desktop\\3-22 Instacart Basket Analysis\\02 Data\\Prepared Data\\cust_ready_to_clean.pkl')\n",
    "path = r'C:\\Users\\Selena\\Desktop\\3-22 Instacart Basket Analysis'\n",
    "df_cust = pd.read_pickle(os.path.join(path, '02 Data', 'Prepared Data', 'cust_ready_to_clean.pkl'))"
   ]
  },
  {
   "cell_type": "code",
   "execution_count": 3,
   "id": "1fd4025b",
   "metadata": {},
   "outputs": [
    {
     "name": "stdout",
     "output_type": "stream",
     "text": [
      "<class 'pandas.core.frame.DataFrame'>\n",
      "RangeIndex: 206209 entries, 0 to 206208\n",
      "Data columns (total 10 columns):\n",
      " #   Column            Non-Null Count   Dtype         \n",
      "---  ------            --------------   -----         \n",
      " 0   user_id           206209 non-null  int32         \n",
      " 1   first_name        194950 non-null  category      \n",
      " 2   last_name         206209 non-null  category      \n",
      " 3   gender            206209 non-null  category      \n",
      " 4   state             206209 non-null  category      \n",
      " 5   age               206209 non-null  int16         \n",
      " 6   date_joined       206209 non-null  datetime64[ns]\n",
      " 7   dependents        206209 non-null  int16         \n",
      " 8   living_situation  206209 non-null  category      \n",
      " 9   income            206209 non-null  int32         \n",
      "dtypes: category(5), datetime64[ns](1), int16(2), int32(2)\n",
      "memory usage: 5.3 MB\n"
     ]
    }
   ],
   "source": [
    "#checking to ensure all data in dataframe\n",
    "df_cust.info()"
   ]
  },
  {
   "cell_type": "markdown",
   "id": "a5a00a24",
   "metadata": {},
   "source": [
    "#dataframe imported correctly"
   ]
  },
  {
   "cell_type": "code",
   "execution_count": 5,
   "id": "bc90c89c",
   "metadata": {},
   "outputs": [],
   "source": [
    "#need to ensure privacy - first_name and last_name should not be included for analysis\n",
    "df_cust = df_cust.drop('first_name', axis=1)"
   ]
  },
  {
   "cell_type": "code",
   "execution_count": 6,
   "id": "f6f3a941",
   "metadata": {},
   "outputs": [],
   "source": [
    "df_cust = df_cust.drop('last_name', axis = 1)"
   ]
  },
  {
   "cell_type": "code",
   "execution_count": 7,
   "id": "3cce3559",
   "metadata": {},
   "outputs": [
    {
     "name": "stdout",
     "output_type": "stream",
     "text": [
      "<class 'pandas.core.frame.DataFrame'>\n",
      "RangeIndex: 206209 entries, 0 to 206208\n",
      "Data columns (total 8 columns):\n",
      " #   Column            Non-Null Count   Dtype         \n",
      "---  ------            --------------   -----         \n",
      " 0   user_id           206209 non-null  int32         \n",
      " 1   gender            206209 non-null  category      \n",
      " 2   state             206209 non-null  category      \n",
      " 3   age               206209 non-null  int16         \n",
      " 4   date_joined       206209 non-null  datetime64[ns]\n",
      " 5   dependents        206209 non-null  int16         \n",
      " 6   living_situation  206209 non-null  category      \n",
      " 7   income            206209 non-null  int32         \n",
      "dtypes: category(3), datetime64[ns](1), int16(2), int32(2)\n",
      "memory usage: 4.5 MB\n"
     ]
    }
   ],
   "source": [
    "df_cust.info()"
   ]
  },
  {
   "cell_type": "code",
   "execution_count": 8,
   "id": "51b7b30f",
   "metadata": {},
   "outputs": [],
   "source": [
    "#exporting the file as a pickle\n",
    "df_cust.to_pickle(os.path.join(path, '02 Data','Prepared Data', 'cust_cleaned.pkl'))"
   ]
  },
  {
   "cell_type": "code",
   "execution_count": null,
   "id": "603b47ba",
   "metadata": {},
   "outputs": [],
   "source": []
  }
 ],
 "metadata": {
  "kernelspec": {
   "display_name": "Python 3 (ipykernel)",
   "language": "python",
   "name": "python3"
  },
  "language_info": {
   "codemirror_mode": {
    "name": "ipython",
    "version": 3
   },
   "file_extension": ".py",
   "mimetype": "text/x-python",
   "name": "python",
   "nbconvert_exporter": "python",
   "pygments_lexer": "ipython3",
   "version": "3.9.7"
  }
 },
 "nbformat": 4,
 "nbformat_minor": 5
}
