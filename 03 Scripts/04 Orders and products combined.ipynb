{
 "cells": [
  {
   "cell_type": "markdown",
   "id": "374df2f8",
   "metadata": {},
   "source": [
    "# Summary of Notebook\n",
    "    inner join orders on products to reduce null values\n",
    "    after merging orders with products, the merged file is too large\n",
    "    searched to understand why.... sleuthing indicated that there may have been duplicate product_ids\n",
    "    7 duplicate IDs were found: I deleted the ones that were truly duplicates: fiber 4 gm gummy, ranger ipa, black house coffee,  gluten free peanut butter, body wash\n",
    "    I could change a duplicate product_id to match the index: Revive Zero Vitamin Water now product_id 6799\n",
    "    There was a duplicate_id for a deodorant and sharp cheddar cheese. After analysis, the deodorant was never purchased. I dropped the row containing the never purchased deodorant\n",
    "    \n",
    "    exported file: 30330084\n",
    "    exported as pickle\n",
    "    saved as: orders_products_combined.pkl"
   ]
  },
  {
   "cell_type": "code",
   "execution_count": 1,
   "id": "3b25dca5",
   "metadata": {},
   "outputs": [],
   "source": [
    "#importing libraries\n",
    "import pandas as pd\n",
    "import numpy as np\n",
    "import os\n",
    "import matplotlib.pyplot as plt\n",
    "import seaborn as sns\n",
    "import scipy\n",
    "import datetime as dt"
   ]
  },
  {
   "cell_type": "code",
   "execution_count": 2,
   "id": "3ab81bfb",
   "metadata": {},
   "outputs": [],
   "source": [
    "#import all_orders\n",
    "df_orders = pd.read_pickle(r'C:\\Users\\Selena\\Desktop\\3-22 Instacart Basket Analysis\\02 Data\\Prepared Data\\all_orders.pkl')\n",
    "path = r'C:\\Users\\Selena\\Desktop\\3-22 Instacart Basket Analysis'\n",
    "df_orders = pd.read_pickle(os.path.join(path, '02 Data', 'Prepared Data', 'all_orders.pkl'))"
   ]
  },
  {
   "cell_type": "code",
   "execution_count": 3,
   "id": "fe16427d",
   "metadata": {},
   "outputs": [
    {
     "name": "stdout",
     "output_type": "stream",
     "text": [
      "<class 'pandas.core.frame.DataFrame'>\n",
      "Int64Index: 30356421 entries, 0 to 30356420\n",
      "Data columns (total 9 columns):\n",
      " #   Column                  Dtype  \n",
      "---  ------                  -----  \n",
      " 0   order_id                int32  \n",
      " 1   user_id                 int32  \n",
      " 2   order_number            int16  \n",
      " 3   day_of_week_ordered     int16  \n",
      " 4   hour_of_day_ordered     int16  \n",
      " 5   days_since_prior_order  float64\n",
      " 6   product_id              int32  \n",
      " 7   add_to_cart_order       int16  \n",
      " 8   reordered               int16  \n",
      "dtypes: float64(1), int16(5), int32(3)\n",
      "memory usage: 1.1 GB\n"
     ]
    }
   ],
   "source": [
    "df_orders.info()"
   ]
  },
  {
   "cell_type": "code",
   "execution_count": 4,
   "id": "12c571be",
   "metadata": {},
   "outputs": [],
   "source": [
    "#import products_cleaned\n",
    "df_products = pd.read_pickle(r'C:\\Users\\Selena\\Desktop\\3-22 Instacart Basket Analysis\\02 Data\\Prepared Data\\products_cleaned.pkl')\n",
    "path = r'C:\\Users\\Selena\\Desktop\\3-22 Instacart Basket Analysis'\n",
    "df_products = pd.read_pickle(os.path.join(path, '02 Data', 'Prepared Data', 'products_cleaned.pkl'))"
   ]
  },
  {
   "cell_type": "code",
   "execution_count": 5,
   "id": "e3733539",
   "metadata": {},
   "outputs": [
    {
     "name": "stdout",
     "output_type": "stream",
     "text": [
      "<class 'pandas.core.frame.DataFrame'>\n",
      "Int64Index: 49677 entries, 0 to 49692\n",
      "Data columns (total 5 columns):\n",
      " #   Column         Non-Null Count  Dtype   \n",
      "---  ------         --------------  -----   \n",
      " 0   product_id     49677 non-null  int32   \n",
      " 1   product_name   49677 non-null  category\n",
      " 2   aisle_id       49677 non-null  int16   \n",
      " 3   department_id  49677 non-null  int16   \n",
      " 4   price          49677 non-null  float64 \n",
      "dtypes: category(1), float64(1), int16(2), int32(1)\n",
      "memory usage: 1.7 MB\n"
     ]
    }
   ],
   "source": [
    "df_products.info()"
   ]
  },
  {
   "cell_type": "code",
   "execution_count": 6,
   "id": "31d2f06f",
   "metadata": {},
   "outputs": [
    {
     "data": {
      "text/plain": [
       "product_id       0\n",
       "product_name     0\n",
       "aisle_id         0\n",
       "department_id    0\n",
       "price            0\n",
       "dtype: int64"
      ]
     },
     "execution_count": 6,
     "metadata": {},
     "output_type": "execute_result"
    }
   ],
   "source": [
    "#seeing if any data is missing\n",
    "df_products.isnull().sum()"
   ]
  },
  {
   "cell_type": "code",
   "execution_count": 7,
   "id": "4c8dc0e5",
   "metadata": {},
   "outputs": [
    {
     "data": {
      "text/plain": [
       "order_id                  0\n",
       "user_id                   0\n",
       "order_number              0\n",
       "day_of_week_ordered       0\n",
       "hour_of_day_ordered       0\n",
       "days_since_prior_order    0\n",
       "product_id                0\n",
       "add_to_cart_order         0\n",
       "reordered                 0\n",
       "dtype: int64"
      ]
     },
     "execution_count": 7,
     "metadata": {},
     "output_type": "execute_result"
    }
   ],
   "source": [
    "#seeing if any data is missing\n",
    "df_orders.isnull().sum()"
   ]
  },
  {
   "cell_type": "code",
   "execution_count": 8,
   "id": "7f80faea",
   "metadata": {},
   "outputs": [],
   "source": [
    "# doing a inner join: I want all orders to have a product information and no nulls\n",
    "df_combined = df_orders.merge(df_products, on = ('product_id'), indicator = True)"
   ]
  },
  {
   "cell_type": "code",
   "execution_count": 9,
   "id": "ce24d0ca",
   "metadata": {},
   "outputs": [
    {
     "data": {
      "text/plain": [
       "both          30329840\n",
       "left_only            0\n",
       "right_only           0\n",
       "Name: _merge, dtype: int64"
      ]
     },
     "execution_count": 9,
     "metadata": {},
     "output_type": "execute_result"
    }
   ],
   "source": [
    "# checking the rows merged on product_id\n",
    "df_combined['_merge'].value_counts()"
   ]
  },
  {
   "cell_type": "code",
   "execution_count": 10,
   "id": "e92066c0",
   "metadata": {},
   "outputs": [
    {
     "data": {
      "text/plain": [
       "(30329840, 14)"
      ]
     },
     "execution_count": 10,
     "metadata": {},
     "output_type": "execute_result"
    }
   ],
   "source": [
    "df_combined.shape"
   ]
  },
  {
   "cell_type": "code",
   "execution_count": 11,
   "id": "ce7d778e",
   "metadata": {},
   "outputs": [
    {
     "data": {
      "text/plain": [
       "(30356421, 9)"
      ]
     },
     "execution_count": 11,
     "metadata": {},
     "output_type": "execute_result"
    }
   ],
   "source": [
    "df_orders.shape"
   ]
  },
  {
   "cell_type": "markdown",
   "id": "f99abdb7",
   "metadata": {},
   "source": [
    "#this isn't making sense. The order shape and the combined shape should be the same"
   ]
  },
  {
   "cell_type": "code",
   "execution_count": 12,
   "id": "c3b6b7a5",
   "metadata": {},
   "outputs": [
    {
     "data": {
      "text/html": [
       "<div>\n",
       "<style scoped>\n",
       "    .dataframe tbody tr th:only-of-type {\n",
       "        vertical-align: middle;\n",
       "    }\n",
       "\n",
       "    .dataframe tbody tr th {\n",
       "        vertical-align: top;\n",
       "    }\n",
       "\n",
       "    .dataframe thead th {\n",
       "        text-align: right;\n",
       "    }\n",
       "</style>\n",
       "<table border=\"1\" class=\"dataframe\">\n",
       "  <thead>\n",
       "    <tr style=\"text-align: right;\">\n",
       "      <th></th>\n",
       "      <th>product_id</th>\n",
       "      <th>product_name</th>\n",
       "      <th>aisle_id</th>\n",
       "      <th>department_id</th>\n",
       "      <th>price</th>\n",
       "    </tr>\n",
       "  </thead>\n",
       "  <tbody>\n",
       "    <tr>\n",
       "      <th>461</th>\n",
       "      <td>462</td>\n",
       "      <td>Fiber 4g Gummy Dietary Supplement</td>\n",
       "      <td>70</td>\n",
       "      <td>11</td>\n",
       "      <td>4.8</td>\n",
       "    </tr>\n",
       "    <tr>\n",
       "      <th>462</th>\n",
       "      <td>462</td>\n",
       "      <td>Fiber 4g Gummy Dietary Supplement</td>\n",
       "      <td>70</td>\n",
       "      <td>11</td>\n",
       "      <td>4.8</td>\n",
       "    </tr>\n",
       "    <tr>\n",
       "      <th>6799</th>\n",
       "      <td>6800</td>\n",
       "      <td>Revive Zero Vitamin Water</td>\n",
       "      <td>64</td>\n",
       "      <td>7</td>\n",
       "      <td>6.4</td>\n",
       "    </tr>\n",
       "    <tr>\n",
       "      <th>6800</th>\n",
       "      <td>6800</td>\n",
       "      <td>Sprouted Quinoa Flakes Baby Cereal</td>\n",
       "      <td>92</td>\n",
       "      <td>18</td>\n",
       "      <td>14.0</td>\n",
       "    </tr>\n",
       "    <tr>\n",
       "      <th>18458</th>\n",
       "      <td>18458</td>\n",
       "      <td>Ranger IPA</td>\n",
       "      <td>27</td>\n",
       "      <td>5</td>\n",
       "      <td>9.2</td>\n",
       "    </tr>\n",
       "    <tr>\n",
       "      <th>18459</th>\n",
       "      <td>18458</td>\n",
       "      <td>Ranger IPA</td>\n",
       "      <td>27</td>\n",
       "      <td>5</td>\n",
       "      <td>9.2</td>\n",
       "    </tr>\n",
       "    <tr>\n",
       "      <th>26520</th>\n",
       "      <td>26520</td>\n",
       "      <td>Clinical Advanced Solid Ultimate Fresh Anti-Pe...</td>\n",
       "      <td>80</td>\n",
       "      <td>11</td>\n",
       "      <td>10.6</td>\n",
       "    </tr>\n",
       "    <tr>\n",
       "      <th>26521</th>\n",
       "      <td>26520</td>\n",
       "      <td>Cheese Shredded Sharp Cheddar Reduced Fat 2%</td>\n",
       "      <td>21</td>\n",
       "      <td>16</td>\n",
       "      <td>2.9</td>\n",
       "    </tr>\n",
       "    <tr>\n",
       "      <th>26809</th>\n",
       "      <td>26808</td>\n",
       "      <td>Black House Coffee Roasty Stout Beer</td>\n",
       "      <td>27</td>\n",
       "      <td>5</td>\n",
       "      <td>13.4</td>\n",
       "    </tr>\n",
       "    <tr>\n",
       "      <th>26810</th>\n",
       "      <td>26808</td>\n",
       "      <td>Black House Coffee Roasty Stout Beer</td>\n",
       "      <td>27</td>\n",
       "      <td>5</td>\n",
       "      <td>13.4</td>\n",
       "    </tr>\n",
       "    <tr>\n",
       "      <th>35308</th>\n",
       "      <td>35306</td>\n",
       "      <td>Gluten Free Organic Peanut Butter &amp; Chocolate ...</td>\n",
       "      <td>121</td>\n",
       "      <td>14</td>\n",
       "      <td>6.8</td>\n",
       "    </tr>\n",
       "    <tr>\n",
       "      <th>35309</th>\n",
       "      <td>35306</td>\n",
       "      <td>Gluten Free Organic Peanut Butter &amp; Chocolate ...</td>\n",
       "      <td>121</td>\n",
       "      <td>14</td>\n",
       "      <td>6.8</td>\n",
       "    </tr>\n",
       "    <tr>\n",
       "      <th>35494</th>\n",
       "      <td>35491</td>\n",
       "      <td>Adore Forever Body Wash</td>\n",
       "      <td>127</td>\n",
       "      <td>11</td>\n",
       "      <td>9.9</td>\n",
       "    </tr>\n",
       "    <tr>\n",
       "      <th>35495</th>\n",
       "      <td>35491</td>\n",
       "      <td>Adore Forever Body Wash</td>\n",
       "      <td>127</td>\n",
       "      <td>11</td>\n",
       "      <td>9.9</td>\n",
       "    </tr>\n",
       "  </tbody>\n",
       "</table>\n",
       "</div>"
      ],
      "text/plain": [
       "       product_id                                       product_name  \\\n",
       "461           462                  Fiber 4g Gummy Dietary Supplement   \n",
       "462           462                  Fiber 4g Gummy Dietary Supplement   \n",
       "6799         6800                          Revive Zero Vitamin Water   \n",
       "6800         6800                 Sprouted Quinoa Flakes Baby Cereal   \n",
       "18458       18458                                         Ranger IPA   \n",
       "18459       18458                                         Ranger IPA   \n",
       "26520       26520  Clinical Advanced Solid Ultimate Fresh Anti-Pe...   \n",
       "26521       26520       Cheese Shredded Sharp Cheddar Reduced Fat 2%   \n",
       "26809       26808               Black House Coffee Roasty Stout Beer   \n",
       "26810       26808               Black House Coffee Roasty Stout Beer   \n",
       "35308       35306  Gluten Free Organic Peanut Butter & Chocolate ...   \n",
       "35309       35306  Gluten Free Organic Peanut Butter & Chocolate ...   \n",
       "35494       35491                            Adore Forever Body Wash   \n",
       "35495       35491                            Adore Forever Body Wash   \n",
       "\n",
       "       aisle_id  department_id  price  \n",
       "461          70             11    4.8  \n",
       "462          70             11    4.8  \n",
       "6799         64              7    6.4  \n",
       "6800         92             18   14.0  \n",
       "18458        27              5    9.2  \n",
       "18459        27              5    9.2  \n",
       "26520        80             11   10.6  \n",
       "26521        21             16    2.9  \n",
       "26809        27              5   13.4  \n",
       "26810        27              5   13.4  \n",
       "35308       121             14    6.8  \n",
       "35309       121             14    6.8  \n",
       "35494       127             11    9.9  \n",
       "35495       127             11    9.9  "
      ]
     },
     "execution_count": 12,
     "metadata": {},
     "output_type": "execute_result"
    }
   ],
   "source": [
    "#trying to see if there are duplicated product_id\n",
    "df_products[df_products.duplicated(['product_id'], keep=False)]"
   ]
  },
  {
   "cell_type": "code",
   "execution_count": 13,
   "id": "c3c107b8",
   "metadata": {},
   "outputs": [],
   "source": [
    "#dropping the duplicate rows\n",
    "df_products = df_products.drop(labels=[462,18459,26810,35309,35495], axis=0)"
   ]
  },
  {
   "cell_type": "code",
   "execution_count": 14,
   "id": "174eabc2",
   "metadata": {},
   "outputs": [
    {
     "data": {
      "text/html": [
       "<div>\n",
       "<style scoped>\n",
       "    .dataframe tbody tr th:only-of-type {\n",
       "        vertical-align: middle;\n",
       "    }\n",
       "\n",
       "    .dataframe tbody tr th {\n",
       "        vertical-align: top;\n",
       "    }\n",
       "\n",
       "    .dataframe thead th {\n",
       "        text-align: right;\n",
       "    }\n",
       "</style>\n",
       "<table border=\"1\" class=\"dataframe\">\n",
       "  <thead>\n",
       "    <tr style=\"text-align: right;\">\n",
       "      <th></th>\n",
       "      <th>product_id</th>\n",
       "      <th>product_name</th>\n",
       "      <th>aisle_id</th>\n",
       "      <th>department_id</th>\n",
       "      <th>price</th>\n",
       "    </tr>\n",
       "  </thead>\n",
       "  <tbody>\n",
       "    <tr>\n",
       "      <th>6799</th>\n",
       "      <td>6800</td>\n",
       "      <td>Revive Zero Vitamin Water</td>\n",
       "      <td>64</td>\n",
       "      <td>7</td>\n",
       "      <td>6.4</td>\n",
       "    </tr>\n",
       "    <tr>\n",
       "      <th>6800</th>\n",
       "      <td>6800</td>\n",
       "      <td>Sprouted Quinoa Flakes Baby Cereal</td>\n",
       "      <td>92</td>\n",
       "      <td>18</td>\n",
       "      <td>14.0</td>\n",
       "    </tr>\n",
       "    <tr>\n",
       "      <th>26520</th>\n",
       "      <td>26520</td>\n",
       "      <td>Clinical Advanced Solid Ultimate Fresh Anti-Pe...</td>\n",
       "      <td>80</td>\n",
       "      <td>11</td>\n",
       "      <td>10.6</td>\n",
       "    </tr>\n",
       "    <tr>\n",
       "      <th>26521</th>\n",
       "      <td>26520</td>\n",
       "      <td>Cheese Shredded Sharp Cheddar Reduced Fat 2%</td>\n",
       "      <td>21</td>\n",
       "      <td>16</td>\n",
       "      <td>2.9</td>\n",
       "    </tr>\n",
       "  </tbody>\n",
       "</table>\n",
       "</div>"
      ],
      "text/plain": [
       "       product_id                                       product_name  \\\n",
       "6799         6800                          Revive Zero Vitamin Water   \n",
       "6800         6800                 Sprouted Quinoa Flakes Baby Cereal   \n",
       "26520       26520  Clinical Advanced Solid Ultimate Fresh Anti-Pe...   \n",
       "26521       26520       Cheese Shredded Sharp Cheddar Reduced Fat 2%   \n",
       "\n",
       "       aisle_id  department_id  price  \n",
       "6799         64              7    6.4  \n",
       "6800         92             18   14.0  \n",
       "26520        80             11   10.6  \n",
       "26521        21             16    2.9  "
      ]
     },
     "execution_count": 14,
     "metadata": {},
     "output_type": "execute_result"
    }
   ],
   "source": [
    "#checking to see change in duplicated product_id\n",
    "df_products[df_products.duplicated(['product_id'], keep=False)]"
   ]
  },
  {
   "cell_type": "code",
   "execution_count": 15,
   "id": "5c8c19ad",
   "metadata": {},
   "outputs": [],
   "source": [
    "# doing a inner join: I want all orders to have a product information and no nulls\n",
    "df_combined = df_orders.merge(df_products, on = ('product_id'), indicator = True)"
   ]
  },
  {
   "cell_type": "code",
   "execution_count": 16,
   "id": "fd897509",
   "metadata": {},
   "outputs": [
    {
     "data": {
      "text/plain": [
       "(30328763, 14)"
      ]
     },
     "execution_count": 16,
     "metadata": {},
     "output_type": "execute_result"
    }
   ],
   "source": [
    "df_combined.shape"
   ]
  },
  {
   "cell_type": "code",
   "execution_count": 17,
   "id": "959a20a3",
   "metadata": {},
   "outputs": [
    {
     "name": "stdout",
     "output_type": "stream",
     "text": [
      "product_id       1\n",
      "product_name     1\n",
      "aisle_id         1\n",
      "department_id    1\n",
      "price            1\n",
      "dtype: int64\n"
     ]
    }
   ],
   "source": [
    "#trying to see if the products are listed twice or just need a new product_id\n",
    "found = df_products[df_products['product_name'].str.contains('Revive Zero Vitamin Water')]\n",
    "print(found.count())"
   ]
  },
  {
   "cell_type": "code",
   "execution_count": 18,
   "id": "c28c1b48",
   "metadata": {},
   "outputs": [
    {
     "name": "stdout",
     "output_type": "stream",
     "text": [
      "product_id       1\n",
      "product_name     1\n",
      "aisle_id         1\n",
      "department_id    1\n",
      "price            1\n",
      "dtype: int64\n"
     ]
    }
   ],
   "source": [
    "#trying to see if the products are listed twice or just need a new product_id\n",
    "found = df_products[df_products['product_name'].str.contains('Sprouted Quinoa Flakes Baby Cereal')]\n",
    "print(found.count())"
   ]
  },
  {
   "cell_type": "code",
   "execution_count": 19,
   "id": "d4f06741",
   "metadata": {},
   "outputs": [
    {
     "name": "stdout",
     "output_type": "stream",
     "text": [
      "product_id       1\n",
      "product_name     1\n",
      "aisle_id         1\n",
      "department_id    1\n",
      "price            1\n",
      "dtype: int64\n"
     ]
    }
   ],
   "source": [
    "#trying to see if the products are listed twice or just need a new product_id\n",
    "found = df_products[df_products['product_name'].str.contains('Clinical Advanced Solid Ultimate Fresh')]\n",
    "print(found.count())"
   ]
  },
  {
   "cell_type": "code",
   "execution_count": 20,
   "id": "e9a69c90",
   "metadata": {},
   "outputs": [
    {
     "name": "stdout",
     "output_type": "stream",
     "text": [
      "product_id       1\n",
      "product_name     1\n",
      "aisle_id         1\n",
      "department_id    1\n",
      "price            1\n",
      "dtype: int64\n"
     ]
    }
   ],
   "source": [
    "#trying to see if the products are listed twice or just need a new product_id\n",
    "found = df_products[df_products['product_name'].str.contains('Cheese Shredded Sharp Cheddar Reduced Fat 2%')]\n",
    "print(found.count())"
   ]
  },
  {
   "cell_type": "markdown",
   "id": "2d133df4",
   "metadata": {},
   "source": [
    "#each item is only in the product_name column once so the name is not duplicated. Based on the pattern of index number and product_id, I am going to change the product_id to match the index number"
   ]
  },
  {
   "cell_type": "code",
   "execution_count": 21,
   "id": "a112ce52",
   "metadata": {},
   "outputs": [
    {
     "data": {
      "text/html": [
       "<div>\n",
       "<style scoped>\n",
       "    .dataframe tbody tr th:only-of-type {\n",
       "        vertical-align: middle;\n",
       "    }\n",
       "\n",
       "    .dataframe tbody tr th {\n",
       "        vertical-align: top;\n",
       "    }\n",
       "\n",
       "    .dataframe thead th {\n",
       "        text-align: right;\n",
       "    }\n",
       "</style>\n",
       "<table border=\"1\" class=\"dataframe\">\n",
       "  <thead>\n",
       "    <tr style=\"text-align: right;\">\n",
       "      <th></th>\n",
       "      <th>product_id</th>\n",
       "      <th>product_name</th>\n",
       "      <th>aisle_id</th>\n",
       "      <th>department_id</th>\n",
       "      <th>price</th>\n",
       "    </tr>\n",
       "  </thead>\n",
       "  <tbody>\n",
       "    <tr>\n",
       "      <th>6799</th>\n",
       "      <td>6800</td>\n",
       "      <td>Revive Zero Vitamin Water</td>\n",
       "      <td>64</td>\n",
       "      <td>7</td>\n",
       "      <td>6.4</td>\n",
       "    </tr>\n",
       "    <tr>\n",
       "      <th>6800</th>\n",
       "      <td>6800</td>\n",
       "      <td>Sprouted Quinoa Flakes Baby Cereal</td>\n",
       "      <td>92</td>\n",
       "      <td>18</td>\n",
       "      <td>14.0</td>\n",
       "    </tr>\n",
       "    <tr>\n",
       "      <th>26520</th>\n",
       "      <td>26520</td>\n",
       "      <td>Clinical Advanced Solid Ultimate Fresh Anti-Pe...</td>\n",
       "      <td>80</td>\n",
       "      <td>11</td>\n",
       "      <td>10.6</td>\n",
       "    </tr>\n",
       "    <tr>\n",
       "      <th>26521</th>\n",
       "      <td>26520</td>\n",
       "      <td>Cheese Shredded Sharp Cheddar Reduced Fat 2%</td>\n",
       "      <td>21</td>\n",
       "      <td>16</td>\n",
       "      <td>2.9</td>\n",
       "    </tr>\n",
       "  </tbody>\n",
       "</table>\n",
       "</div>"
      ],
      "text/plain": [
       "       product_id                                       product_name  \\\n",
       "6799         6800                          Revive Zero Vitamin Water   \n",
       "6800         6800                 Sprouted Quinoa Flakes Baby Cereal   \n",
       "26520       26520  Clinical Advanced Solid Ultimate Fresh Anti-Pe...   \n",
       "26521       26520       Cheese Shredded Sharp Cheddar Reduced Fat 2%   \n",
       "\n",
       "       aisle_id  department_id  price  \n",
       "6799         64              7    6.4  \n",
       "6800         92             18   14.0  \n",
       "26520        80             11   10.6  \n",
       "26521        21             16    2.9  "
      ]
     },
     "execution_count": 21,
     "metadata": {},
     "output_type": "execute_result"
    }
   ],
   "source": [
    "#checking to see change in duplicated product_id\n",
    "df_products[df_products.duplicated(['product_id'], keep=False)]"
   ]
  },
  {
   "cell_type": "code",
   "execution_count": 22,
   "id": "5ae7270c",
   "metadata": {},
   "outputs": [
    {
     "data": {
      "text/plain": [
       "6800"
      ]
     },
     "execution_count": 22,
     "metadata": {},
     "output_type": "execute_result"
    }
   ],
   "source": [
    "#attempting to change the product_id\n",
    "df_products.at[6799, 'product_id']"
   ]
  },
  {
   "cell_type": "code",
   "execution_count": 23,
   "id": "01d4fff5",
   "metadata": {},
   "outputs": [],
   "source": [
    "#attempting to change the product_id\n",
    "df_products.at[6799, 'product_id']=6799"
   ]
  },
  {
   "cell_type": "code",
   "execution_count": 24,
   "id": "69e7838b",
   "metadata": {},
   "outputs": [
    {
     "data": {
      "text/html": [
       "<div>\n",
       "<style scoped>\n",
       "    .dataframe tbody tr th:only-of-type {\n",
       "        vertical-align: middle;\n",
       "    }\n",
       "\n",
       "    .dataframe tbody tr th {\n",
       "        vertical-align: top;\n",
       "    }\n",
       "\n",
       "    .dataframe thead th {\n",
       "        text-align: right;\n",
       "    }\n",
       "</style>\n",
       "<table border=\"1\" class=\"dataframe\">\n",
       "  <thead>\n",
       "    <tr style=\"text-align: right;\">\n",
       "      <th></th>\n",
       "      <th>product_id</th>\n",
       "      <th>product_name</th>\n",
       "      <th>aisle_id</th>\n",
       "      <th>department_id</th>\n",
       "      <th>price</th>\n",
       "    </tr>\n",
       "  </thead>\n",
       "  <tbody>\n",
       "    <tr>\n",
       "      <th>26520</th>\n",
       "      <td>26520</td>\n",
       "      <td>Clinical Advanced Solid Ultimate Fresh Anti-Pe...</td>\n",
       "      <td>80</td>\n",
       "      <td>11</td>\n",
       "      <td>10.6</td>\n",
       "    </tr>\n",
       "    <tr>\n",
       "      <th>26521</th>\n",
       "      <td>26520</td>\n",
       "      <td>Cheese Shredded Sharp Cheddar Reduced Fat 2%</td>\n",
       "      <td>21</td>\n",
       "      <td>16</td>\n",
       "      <td>2.9</td>\n",
       "    </tr>\n",
       "  </tbody>\n",
       "</table>\n",
       "</div>"
      ],
      "text/plain": [
       "       product_id                                       product_name  \\\n",
       "26520       26520  Clinical Advanced Solid Ultimate Fresh Anti-Pe...   \n",
       "26521       26520       Cheese Shredded Sharp Cheddar Reduced Fat 2%   \n",
       "\n",
       "       aisle_id  department_id  price  \n",
       "26520        80             11   10.6  \n",
       "26521        21             16    2.9  "
      ]
     },
     "execution_count": 24,
     "metadata": {},
     "output_type": "execute_result"
    }
   ],
   "source": [
    "#checking to see change in duplicated product_id\n",
    "df_products[df_products.duplicated(['product_id'], keep=False)]"
   ]
  },
  {
   "cell_type": "code",
   "execution_count": 25,
   "id": "1c3669b5",
   "metadata": {},
   "outputs": [],
   "source": [
    "#attempting to change the product_id\n",
    "df_products.at[26521, 'product_id']=26521"
   ]
  },
  {
   "cell_type": "code",
   "execution_count": 26,
   "id": "97872b96",
   "metadata": {},
   "outputs": [
    {
     "data": {
      "text/html": [
       "<div>\n",
       "<style scoped>\n",
       "    .dataframe tbody tr th:only-of-type {\n",
       "        vertical-align: middle;\n",
       "    }\n",
       "\n",
       "    .dataframe tbody tr th {\n",
       "        vertical-align: top;\n",
       "    }\n",
       "\n",
       "    .dataframe thead th {\n",
       "        text-align: right;\n",
       "    }\n",
       "</style>\n",
       "<table border=\"1\" class=\"dataframe\">\n",
       "  <thead>\n",
       "    <tr style=\"text-align: right;\">\n",
       "      <th></th>\n",
       "      <th>product_id</th>\n",
       "      <th>product_name</th>\n",
       "      <th>aisle_id</th>\n",
       "      <th>department_id</th>\n",
       "      <th>price</th>\n",
       "    </tr>\n",
       "  </thead>\n",
       "  <tbody>\n",
       "    <tr>\n",
       "      <th>26521</th>\n",
       "      <td>26521</td>\n",
       "      <td>Cheese Shredded Sharp Cheddar Reduced Fat 2%</td>\n",
       "      <td>21</td>\n",
       "      <td>16</td>\n",
       "      <td>2.9</td>\n",
       "    </tr>\n",
       "    <tr>\n",
       "      <th>26522</th>\n",
       "      <td>26521</td>\n",
       "      <td>Organic Grass-Fed Classic Mild Cheddar Macaron...</td>\n",
       "      <td>4</td>\n",
       "      <td>9</td>\n",
       "      <td>9.0</td>\n",
       "    </tr>\n",
       "  </tbody>\n",
       "</table>\n",
       "</div>"
      ],
      "text/plain": [
       "       product_id                                       product_name  \\\n",
       "26521       26521       Cheese Shredded Sharp Cheddar Reduced Fat 2%   \n",
       "26522       26521  Organic Grass-Fed Classic Mild Cheddar Macaron...   \n",
       "\n",
       "       aisle_id  department_id  price  \n",
       "26521        21             16    2.9  \n",
       "26522         4              9    9.0  "
      ]
     },
     "execution_count": 26,
     "metadata": {},
     "output_type": "execute_result"
    }
   ],
   "source": [
    "#checking to see change in duplicated product_id\n",
    "df_products[df_products.duplicated(['product_id'], keep=False)]"
   ]
  },
  {
   "cell_type": "code",
   "execution_count": 27,
   "id": "a955e521",
   "metadata": {},
   "outputs": [],
   "source": [
    "# doing a inner join: I want all orders to have a product information and no nulls\n",
    "df_combined = df_orders.merge(df_products, on = ('product_id'), indicator = True)"
   ]
  },
  {
   "cell_type": "code",
   "execution_count": 28,
   "id": "a1e50860",
   "metadata": {},
   "outputs": [
    {
     "data": {
      "text/plain": [
       "(30331681, 14)"
      ]
     },
     "execution_count": 28,
     "metadata": {},
     "output_type": "execute_result"
    }
   ],
   "source": [
    "df_combined.shape"
   ]
  },
  {
   "cell_type": "code",
   "execution_count": 29,
   "id": "f2af22e2",
   "metadata": {},
   "outputs": [
    {
     "data": {
      "text/plain": [
       "(30356421, 9)"
      ]
     },
     "execution_count": 29,
     "metadata": {},
     "output_type": "execute_result"
    }
   ],
   "source": [
    "df_orders.shape"
   ]
  },
  {
   "cell_type": "markdown",
   "id": "e4ef4035",
   "metadata": {},
   "source": [
    "#this isn't working If I were on a team, I'd just ask for the product_id"
   ]
  },
  {
   "cell_type": "code",
   "execution_count": 30,
   "id": "208555b6",
   "metadata": {},
   "outputs": [],
   "source": [
    "#attempting to change the product_id\n",
    "df_products.at[26521, 'product_id']=26520"
   ]
  },
  {
   "cell_type": "code",
   "execution_count": 31,
   "id": "a4e38396",
   "metadata": {},
   "outputs": [
    {
     "data": {
      "text/html": [
       "<div>\n",
       "<style scoped>\n",
       "    .dataframe tbody tr th:only-of-type {\n",
       "        vertical-align: middle;\n",
       "    }\n",
       "\n",
       "    .dataframe tbody tr th {\n",
       "        vertical-align: top;\n",
       "    }\n",
       "\n",
       "    .dataframe thead th {\n",
       "        text-align: right;\n",
       "    }\n",
       "</style>\n",
       "<table border=\"1\" class=\"dataframe\">\n",
       "  <thead>\n",
       "    <tr style=\"text-align: right;\">\n",
       "      <th></th>\n",
       "      <th>product_id</th>\n",
       "      <th>product_name</th>\n",
       "      <th>aisle_id</th>\n",
       "      <th>department_id</th>\n",
       "      <th>price</th>\n",
       "    </tr>\n",
       "  </thead>\n",
       "  <tbody>\n",
       "    <tr>\n",
       "      <th>26520</th>\n",
       "      <td>26520</td>\n",
       "      <td>Clinical Advanced Solid Ultimate Fresh Anti-Pe...</td>\n",
       "      <td>80</td>\n",
       "      <td>11</td>\n",
       "      <td>10.6</td>\n",
       "    </tr>\n",
       "    <tr>\n",
       "      <th>26521</th>\n",
       "      <td>26520</td>\n",
       "      <td>Cheese Shredded Sharp Cheddar Reduced Fat 2%</td>\n",
       "      <td>21</td>\n",
       "      <td>16</td>\n",
       "      <td>2.9</td>\n",
       "    </tr>\n",
       "  </tbody>\n",
       "</table>\n",
       "</div>"
      ],
      "text/plain": [
       "       product_id                                       product_name  \\\n",
       "26520       26520  Clinical Advanced Solid Ultimate Fresh Anti-Pe...   \n",
       "26521       26520       Cheese Shredded Sharp Cheddar Reduced Fat 2%   \n",
       "\n",
       "       aisle_id  department_id  price  \n",
       "26520        80             11   10.6  \n",
       "26521        21             16    2.9  "
      ]
     },
     "execution_count": 31,
     "metadata": {},
     "output_type": "execute_result"
    }
   ],
   "source": [
    "#checking to see change in duplicated product_id\n",
    "df_products[df_products.duplicated(['product_id'], keep=False)]"
   ]
  },
  {
   "cell_type": "code",
   "execution_count": 32,
   "id": "89880534",
   "metadata": {},
   "outputs": [],
   "source": [
    "# doing a inner join: I want all orders to have a product information and no nulls\n",
    "df_combined = df_orders.merge(df_products, on = ('product_id'), indicator = True)"
   ]
  },
  {
   "cell_type": "code",
   "execution_count": 33,
   "id": "fc2425e1",
   "metadata": {},
   "outputs": [
    {
     "data": {
      "text/plain": [
       "(30330612, 14)"
      ]
     },
     "execution_count": 33,
     "metadata": {},
     "output_type": "execute_result"
    }
   ],
   "source": [
    "df_combined.shape"
   ]
  },
  {
   "cell_type": "code",
   "execution_count": 34,
   "id": "704b070a",
   "metadata": {},
   "outputs": [
    {
     "data": {
      "text/plain": [
       "0"
      ]
     },
     "execution_count": 34,
     "metadata": {},
     "output_type": "execute_result"
    }
   ],
   "source": [
    "#counting how many times the product_name clinincal advances solid ultimate happens\n",
    "(df_combined['product_name']=='Clinical Advanced Solit Ultimate Fresh').sum()"
   ]
  },
  {
   "cell_type": "code",
   "execution_count": 35,
   "id": "4628cf71",
   "metadata": {},
   "outputs": [
    {
     "data": {
      "text/plain": [
       "528"
      ]
     },
     "execution_count": 35,
     "metadata": {},
     "output_type": "execute_result"
    }
   ],
   "source": [
    "#counting how many times the product_name cheese shredded sharp cheddar reduced fat ultimate happens\n",
    "(df_combined['product_name']=='Cheese Shredded Sharp Cheddar Reduced Fat 2%').sum()"
   ]
  },
  {
   "cell_type": "markdown",
   "id": "2ec83e07",
   "metadata": {},
   "source": [
    "#based on this analysis, I can drop the row named as index 26520"
   ]
  },
  {
   "cell_type": "code",
   "execution_count": 36,
   "id": "48f68c1f",
   "metadata": {},
   "outputs": [],
   "source": [
    "#dropping the duplicate row\n",
    "df_products = df_products.drop(labels=[26520], axis=0)"
   ]
  },
  {
   "cell_type": "code",
   "execution_count": 37,
   "id": "c76e4e78",
   "metadata": {},
   "outputs": [],
   "source": [
    "# doing a inner join: I want all orders to have a product information and no nulls\n",
    "df_combined = df_orders.merge(df_products, on = ('product_id'), indicator = True)"
   ]
  },
  {
   "cell_type": "code",
   "execution_count": 38,
   "id": "b2d627c3",
   "metadata": {},
   "outputs": [
    {
     "data": {
      "text/plain": [
       "(30330084, 14)"
      ]
     },
     "execution_count": 38,
     "metadata": {},
     "output_type": "execute_result"
    }
   ],
   "source": [
    "df_combined.shape"
   ]
  },
  {
   "cell_type": "code",
   "execution_count": 39,
   "id": "a8430253",
   "metadata": {},
   "outputs": [
    {
     "data": {
      "text/plain": [
       "(30356421, 9)"
      ]
     },
     "execution_count": 39,
     "metadata": {},
     "output_type": "execute_result"
    }
   ],
   "source": [
    "df_orders.shape"
   ]
  },
  {
   "cell_type": "code",
   "execution_count": 40,
   "id": "92094a2b",
   "metadata": {},
   "outputs": [
    {
     "data": {
      "text/plain": [
       "order_id                  0\n",
       "user_id                   0\n",
       "order_number              0\n",
       "day_of_week_ordered       0\n",
       "hour_of_day_ordered       0\n",
       "days_since_prior_order    0\n",
       "product_id                0\n",
       "add_to_cart_order         0\n",
       "reordered                 0\n",
       "product_name              0\n",
       "aisle_id                  0\n",
       "department_id             0\n",
       "price                     0\n",
       "_merge                    0\n",
       "dtype: int64"
      ]
     },
     "execution_count": 40,
     "metadata": {},
     "output_type": "execute_result"
    }
   ],
   "source": [
    "#seeing if any data is missing\n",
    "df_combined.isnull().sum()"
   ]
  },
  {
   "cell_type": "code",
   "execution_count": 41,
   "id": "f988017b",
   "metadata": {},
   "outputs": [],
   "source": [
    "#exporting merged file as a pickle\n",
    "df_combined.to_pickle(os.path.join(path, '02 Data','Prepared Data', 'orders_products_combined.pkl'))"
   ]
  },
  {
   "cell_type": "code",
   "execution_count": null,
   "id": "4f99f6af",
   "metadata": {},
   "outputs": [],
   "source": []
  }
 ],
 "metadata": {
  "kernelspec": {
   "display_name": "Python 3 (ipykernel)",
   "language": "python",
   "name": "python3"
  },
  "language_info": {
   "codemirror_mode": {
    "name": "ipython",
    "version": 3
   },
   "file_extension": ".py",
   "mimetype": "text/x-python",
   "name": "python",
   "nbconvert_exporter": "python",
   "pygments_lexer": "ipython3",
   "version": "3.9.7"
  }
 },
 "nbformat": 4,
 "nbformat_minor": 5
}
