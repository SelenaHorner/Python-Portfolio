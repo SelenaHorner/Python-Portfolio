{
 "cells": [
  {
   "cell_type": "markdown",
   "id": "13af375a",
   "metadata": {},
   "source": [
    "# Summary of Notebook\n",
    "    Had to change datatypes due to \"object\" which increases memory requirement. All objects now = category\n",
    "    Basically, all the flags had to be changed to a category\n",
    "    Exported 30330084 rows\n",
    "    Exported as pickle\n",
    "    Exported to 04 Analysis\n",
    "    Wrote over the previous version\n",
    "    Saved as '04 Analysis', 'all_plus_regions.pkl'"
   ]
  },
  {
   "cell_type": "code",
   "execution_count": 1,
   "id": "f7b47491",
   "metadata": {},
   "outputs": [],
   "source": [
    "#importing libraries\n",
    "import pandas as pd\n",
    "import numpy as np\n",
    "import os\n",
    "import matplotlib.pyplot as plt\n",
    "import seaborn as sns\n",
    "import scipy\n",
    "import datetime as dt"
   ]
  },
  {
   "cell_type": "code",
   "execution_count": 3,
   "id": "b05bbabe",
   "metadata": {},
   "outputs": [],
   "source": [
    "#import orders_products_customers_combined\n",
    "df_all = pd.read_pickle(r'C:\\Users\\Selena\\Desktop\\3-22 Instacart Basket Analysis\\04 Analysis\\all_plus_regions.pkl')\n",
    "path = r'C:\\Users\\Selena\\Desktop\\3-22 Instacart Basket Analysis'\n",
    "df_all = pd.read_pickle(os.path.join(path, '04 Analysis', 'all_plus_regions.pkl'))"
   ]
  },
  {
   "cell_type": "code",
   "execution_count": 4,
   "id": "1c80b936",
   "metadata": {},
   "outputs": [
    {
     "name": "stdout",
     "output_type": "stream",
     "text": [
      "<class 'pandas.core.frame.DataFrame'>\n",
      "Int64Index: 30330084 entries, 0 to 30330083\n",
      "Data columns (total 30 columns):\n",
      " #   Column                  Dtype         \n",
      "---  ------                  -----         \n",
      " 0   order_id                int32         \n",
      " 1   user_id                 int32         \n",
      " 2   order_number            int16         \n",
      " 3   day_of_week_ordered     int16         \n",
      " 4   hour_of_day_ordered     int16         \n",
      " 5   days_since_prior_order  float64       \n",
      " 6   product_id              int32         \n",
      " 7   add_to_cart_order       int16         \n",
      " 8   reordered               int16         \n",
      " 9   product_name            category      \n",
      " 10  aisle_id                int16         \n",
      " 11  department_id           int16         \n",
      " 12  price                   float64       \n",
      " 13  gender                  category      \n",
      " 14  state                   category      \n",
      " 15  age                     int16         \n",
      " 16  date_joined             datetime64[ns]\n",
      " 17  dependents              int16         \n",
      " 18  living_situation        category      \n",
      " 19  income                  int32         \n",
      " 20  price_range_loc         object        \n",
      " 21  busiest_day             object        \n",
      " 22  busiest_period_of_day   object        \n",
      " 23  max_order               int16         \n",
      " 24  loyalty_flag            object        \n",
      " 25  total_spent             float64       \n",
      " 26  spender_flag            object        \n",
      " 27  median_days_prior_ord   float64       \n",
      " 28  frequency_flag          object        \n",
      " 29  region                  object        \n",
      "dtypes: category(4), datetime64[ns](1), float64(4), int16(10), int32(4), object(7)\n",
      "memory usage: 4.2+ GB\n"
     ]
    }
   ],
   "source": [
    "df_all.info()"
   ]
  },
  {
   "cell_type": "code",
   "execution_count": 7,
   "id": "215c74ed",
   "metadata": {},
   "outputs": [],
   "source": [
    "#changing datatype to reduce memory - datatype category\n",
    "df_all[['price_range_loc','busiest_day','busiest_period_of_day','loyalty_flag','spender_flag','frequency_flag','region']] = df_all[['price_range_loc','busiest_day','busiest_period_of_day','loyalty_flag','spender_flag','frequency_flag','region']].astype('category')"
   ]
  },
  {
   "cell_type": "code",
   "execution_count": 8,
   "id": "622a8d5e",
   "metadata": {},
   "outputs": [
    {
     "name": "stdout",
     "output_type": "stream",
     "text": [
      "<class 'pandas.core.frame.DataFrame'>\n",
      "Int64Index: 30330084 entries, 0 to 30330083\n",
      "Data columns (total 30 columns):\n",
      " #   Column                  Dtype         \n",
      "---  ------                  -----         \n",
      " 0   order_id                int32         \n",
      " 1   user_id                 int32         \n",
      " 2   order_number            int16         \n",
      " 3   day_of_week_ordered     int16         \n",
      " 4   hour_of_day_ordered     int16         \n",
      " 5   days_since_prior_order  float64       \n",
      " 6   product_id              int32         \n",
      " 7   add_to_cart_order       int16         \n",
      " 8   reordered               int16         \n",
      " 9   product_name            category      \n",
      " 10  aisle_id                int16         \n",
      " 11  department_id           int16         \n",
      " 12  price                   float64       \n",
      " 13  gender                  category      \n",
      " 14  state                   category      \n",
      " 15  age                     int16         \n",
      " 16  date_joined             datetime64[ns]\n",
      " 17  dependents              int16         \n",
      " 18  living_situation        category      \n",
      " 19  income                  int32         \n",
      " 20  price_range_loc         category      \n",
      " 21  busiest_day             category      \n",
      " 22  busiest_period_of_day   category      \n",
      " 23  max_order               int16         \n",
      " 24  loyalty_flag            category      \n",
      " 25  total_spent             float64       \n",
      " 26  spender_flag            category      \n",
      " 27  median_days_prior_ord   float64       \n",
      " 28  frequency_flag          category      \n",
      " 29  region                  category      \n",
      "dtypes: category(11), datetime64[ns](1), float64(4), int16(10), int32(4)\n",
      "memory usage: 2.8 GB\n"
     ]
    }
   ],
   "source": [
    "df_all.info()"
   ]
  },
  {
   "cell_type": "code",
   "execution_count": 9,
   "id": "96a80695",
   "metadata": {},
   "outputs": [],
   "source": [
    "#exporting the new dataframe as a pickle\n",
    "df_all.to_pickle(os.path.join(path, '04 Analysis', 'all_plus_regions.pkl'))"
   ]
  },
  {
   "cell_type": "code",
   "execution_count": null,
   "id": "c0cf8683",
   "metadata": {},
   "outputs": [],
   "source": []
  }
 ],
 "metadata": {
  "kernelspec": {
   "display_name": "Python 3 (ipykernel)",
   "language": "python",
   "name": "python3"
  },
  "language_info": {
   "codemirror_mode": {
    "name": "ipython",
    "version": 3
   },
   "file_extension": ".py",
   "mimetype": "text/x-python",
   "name": "python",
   "nbconvert_exporter": "python",
   "pygments_lexer": "ipython3",
   "version": "3.9.7"
  }
 },
 "nbformat": 4,
 "nbformat_minor": 5
}
