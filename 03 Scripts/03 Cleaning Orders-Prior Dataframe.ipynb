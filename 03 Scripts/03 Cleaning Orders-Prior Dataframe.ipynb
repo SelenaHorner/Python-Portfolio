{
 "cells": [
  {
   "cell_type": "markdown",
   "id": "7b16641e",
   "metadata": {},
   "source": [
    "# Summary of Notebook\n",
    "    Checked the very large orders with >100 add_add_to_cart_order: seemed legit\n",
    "    Dataframe 32434489\n",
    "    Exported as pickle\n",
    "    Saved as orders_prior_clean.pkl"
   ]
  },
  {
   "cell_type": "markdown",
   "id": "7f845e1e",
   "metadata": {},
   "source": [
    "# Summary of Previous Notebook\n",
    "    Dataframe rows: 32434489\n",
    "    Exported as pickle & saved as orders_prior_ready_to_clean\n",
    "    Changed the datatypes to conserve memory\n",
    "    order_id & product_id datatype = int32\n",
    "    No duplicates\n",
    "    No missing values\n",
    "    10% of order_id are distinct: one item orders\n",
    "    product_id: range 1 to 49,677\n",
    "    add_to_cart_order: range 1 to 145; there are orders with 131 to 145 add to card order - kind of suspicious\n",
    "    reordered: range 0-1; 59% of the time an item was reordered"
   ]
  },
  {
   "cell_type": "code",
   "execution_count": 1,
   "id": "d2efc60a",
   "metadata": {},
   "outputs": [],
   "source": [
    "#importing libraries\n",
    "import pandas as pd\n",
    "import numpy as np\n",
    "import os\n",
    "import matplotlib.pyplot as plt\n",
    "import seaborn as sns\n",
    "import scipy\n",
    "import datetime as dt"
   ]
  },
  {
   "cell_type": "code",
   "execution_count": 2,
   "id": "5ef2cf92",
   "metadata": {},
   "outputs": [],
   "source": [
    "#import orders_prior_ready_to_clean dataframe\n",
    "df_orders_prior = pd.read_pickle(r'C:\\Users\\Selena\\Desktop\\3-22 Instacart Basket Analysis\\02 Data\\Prepared Data\\orders_prior_ready_to_clean.pkl')\n",
    "path = r'C:\\Users\\Selena\\Desktop\\3-22 Instacart Basket Analysis'\n",
    "df_orders_prior = pd.read_pickle(os.path.join(path, '02 Data', 'Prepared Data', 'orders_prior_ready_to_clean.pkl'))"
   ]
  },
  {
   "cell_type": "code",
   "execution_count": 5,
   "id": "f07f132b",
   "metadata": {},
   "outputs": [
    {
     "name": "stdout",
     "output_type": "stream",
     "text": [
      "<class 'pandas.core.frame.DataFrame'>\n",
      "RangeIndex: 32434489 entries, 0 to 32434488\n",
      "Data columns (total 4 columns):\n",
      " #   Column             Dtype\n",
      "---  ------             -----\n",
      " 0   order_id           int32\n",
      " 1   product_id         int32\n",
      " 2   add_to_cart_order  int16\n",
      " 3   reordered          int16\n",
      "dtypes: int16(2), int32(2)\n",
      "memory usage: 371.2 MB\n"
     ]
    }
   ],
   "source": [
    "#checking import\n",
    "df_orders_prior.info()"
   ]
  },
  {
   "cell_type": "markdown",
   "id": "8de73a38",
   "metadata": {},
   "source": [
    "#import matches"
   ]
  },
  {
   "cell_type": "code",
   "execution_count": 12,
   "id": "451d7830",
   "metadata": {},
   "outputs": [
    {
     "data": {
      "text/html": [
       "<div>\n",
       "<style scoped>\n",
       "    .dataframe tbody tr th:only-of-type {\n",
       "        vertical-align: middle;\n",
       "    }\n",
       "\n",
       "    .dataframe tbody tr th {\n",
       "        vertical-align: top;\n",
       "    }\n",
       "\n",
       "    .dataframe thead th {\n",
       "        text-align: right;\n",
       "    }\n",
       "</style>\n",
       "<table border=\"1\" class=\"dataframe\">\n",
       "  <thead>\n",
       "    <tr style=\"text-align: right;\">\n",
       "      <th></th>\n",
       "      <th></th>\n",
       "      <th>add_to_cart_order</th>\n",
       "    </tr>\n",
       "    <tr>\n",
       "      <th>order_id</th>\n",
       "      <th>product_id</th>\n",
       "      <th></th>\n",
       "    </tr>\n",
       "  </thead>\n",
       "  <tbody>\n",
       "    <tr>\n",
       "      <th rowspan=\"5\" valign=\"top\">2</th>\n",
       "      <th>1819</th>\n",
       "      <td>1</td>\n",
       "    </tr>\n",
       "    <tr>\n",
       "      <th>9327</th>\n",
       "      <td>1</td>\n",
       "    </tr>\n",
       "    <tr>\n",
       "      <th>17794</th>\n",
       "      <td>1</td>\n",
       "    </tr>\n",
       "    <tr>\n",
       "      <th>28985</th>\n",
       "      <td>1</td>\n",
       "    </tr>\n",
       "    <tr>\n",
       "      <th>30035</th>\n",
       "      <td>1</td>\n",
       "    </tr>\n",
       "    <tr>\n",
       "      <th>...</th>\n",
       "      <th>...</th>\n",
       "      <td>...</td>\n",
       "    </tr>\n",
       "    <tr>\n",
       "      <th rowspan=\"5\" valign=\"top\">3421083</th>\n",
       "      <th>21162</th>\n",
       "      <td>1</td>\n",
       "    </tr>\n",
       "    <tr>\n",
       "      <th>24852</th>\n",
       "      <td>1</td>\n",
       "    </tr>\n",
       "    <tr>\n",
       "      <th>35211</th>\n",
       "      <td>1</td>\n",
       "    </tr>\n",
       "    <tr>\n",
       "      <th>39678</th>\n",
       "      <td>1</td>\n",
       "    </tr>\n",
       "    <tr>\n",
       "      <th>45309</th>\n",
       "      <td>1</td>\n",
       "    </tr>\n",
       "  </tbody>\n",
       "</table>\n",
       "<p>32434489 rows × 1 columns</p>\n",
       "</div>"
      ],
      "text/plain": [
       "                     add_to_cart_order\n",
       "order_id product_id                   \n",
       "2        1819                        1\n",
       "         9327                        1\n",
       "         17794                       1\n",
       "         28985                       1\n",
       "         30035                       1\n",
       "...                                ...\n",
       "3421083  21162                       1\n",
       "         24852                       1\n",
       "         35211                       1\n",
       "         39678                       1\n",
       "         45309                       1\n",
       "\n",
       "[32434489 rows x 1 columns]"
      ]
     },
     "execution_count": 12,
     "metadata": {},
     "output_type": "execute_result"
    }
   ],
   "source": [
    "#trying to figure out the high add_to_cart_order rows\n",
    "df_orders_prior.groupby(['order_id', 'product_id'])[['add_to_cart_order']].agg('count')"
   ]
  },
  {
   "cell_type": "code",
   "execution_count": 13,
   "id": "61127d4f",
   "metadata": {},
   "outputs": [
    {
     "data": {
      "text/plain": [
       "order_id  product_id  add_to_cart_order  reordered\n",
       "2         1819        8                  1            1\n",
       "2280875   37027       4                  1            1\n",
       "          28851       3                  1            1\n",
       "          16518       1                  1            1\n",
       "          16260       2                  1            1\n",
       "                                                     ..\n",
       "1141412   47209       1                  1            1\n",
       "          45066       5                  0            1\n",
       "          34126       10                 1            1\n",
       "          32177       4                  1            1\n",
       "3421083   45309       2                  0            1\n",
       "Length: 32434489, dtype: int64"
      ]
     },
     "execution_count": 13,
     "metadata": {},
     "output_type": "execute_result"
    }
   ],
   "source": [
    "df_orders_prior.value_counts()"
   ]
  },
  {
   "cell_type": "code",
   "execution_count": 14,
   "id": "f4d809b1",
   "metadata": {},
   "outputs": [
    {
     "data": {
      "text/plain": [
       "add_to_cart_order\n",
       "1                    3214874\n",
       "2                    3058126\n",
       "3                    2871133\n",
       "4                    2664106\n",
       "5                    2442025\n",
       "                      ...   \n",
       "141                        1\n",
       "142                        1\n",
       "143                        1\n",
       "144                        1\n",
       "145                        1\n",
       "Length: 145, dtype: int64"
      ]
     },
     "execution_count": 14,
     "metadata": {},
     "output_type": "execute_result"
    }
   ],
   "source": [
    "df_orders_prior.value_counts(['add_to_cart_order'])"
   ]
  },
  {
   "cell_type": "code",
   "execution_count": 37,
   "id": "782a67bb",
   "metadata": {},
   "outputs": [],
   "source": [
    "limit = 100"
   ]
  },
  {
   "cell_type": "code",
   "execution_count": 38,
   "id": "4b24955f",
   "metadata": {},
   "outputs": [],
   "source": [
    "column_name = 'add_to_cart_order'"
   ]
  },
  {
   "cell_type": "code",
   "execution_count": 39,
   "id": "59310afe",
   "metadata": {},
   "outputs": [],
   "source": [
    "column = df_orders_prior['add_to_cart_order']"
   ]
  },
  {
   "cell_type": "code",
   "execution_count": 40,
   "id": "eaaee29b",
   "metadata": {},
   "outputs": [],
   "source": [
    "count = column[column > limit].count()"
   ]
  },
  {
   "cell_type": "code",
   "execution_count": 45,
   "id": "86892eb5",
   "metadata": {},
   "outputs": [
    {
     "name": "stdout",
     "output_type": "stream",
     "text": [
      "Count of add_to_cart_order > 100:  242\n"
     ]
    }
   ],
   "source": [
    "print('Count of add_to_cart_order > 100: ', count)"
   ]
  },
  {
   "cell_type": "code",
   "execution_count": 47,
   "id": "989af8c4",
   "metadata": {},
   "outputs": [
    {
     "data": {
      "text/plain": [
       "145          1\n",
       "138          1\n",
       "139          1\n",
       "140          1\n",
       "144          1\n",
       "        ...   \n",
       "5      2442025\n",
       "4      2664106\n",
       "3      2871133\n",
       "2      3058126\n",
       "1      3214874\n",
       "Name: add_to_cart_order, Length: 145, dtype: int64"
      ]
     },
     "execution_count": 47,
     "metadata": {},
     "output_type": "execute_result"
    }
   ],
   "source": [
    "df_orders_prior['add_to_cart_order'].value_counts().sort_index(ascending = True).sort_values(ascending = True)"
   ]
  },
  {
   "cell_type": "code",
   "execution_count": 51,
   "id": "fbe21d65",
   "metadata": {},
   "outputs": [
    {
     "data": {
      "text/html": [
       "<div>\n",
       "<style scoped>\n",
       "    .dataframe tbody tr th:only-of-type {\n",
       "        vertical-align: middle;\n",
       "    }\n",
       "\n",
       "    .dataframe tbody tr th {\n",
       "        vertical-align: top;\n",
       "    }\n",
       "\n",
       "    .dataframe thead th {\n",
       "        text-align: right;\n",
       "    }\n",
       "</style>\n",
       "<table border=\"1\" class=\"dataframe\">\n",
       "  <thead>\n",
       "    <tr style=\"text-align: right;\">\n",
       "      <th></th>\n",
       "      <th>order_id</th>\n",
       "      <th>product_id</th>\n",
       "      <th>add_to_cart_order</th>\n",
       "      <th>reordered</th>\n",
       "    </tr>\n",
       "  </thead>\n",
       "  <tbody>\n",
       "    <tr>\n",
       "      <th>580377</th>\n",
       "      <td>61355</td>\n",
       "      <td>26701</td>\n",
       "      <td>101</td>\n",
       "      <td>0</td>\n",
       "    </tr>\n",
       "    <tr>\n",
       "      <th>580378</th>\n",
       "      <td>61355</td>\n",
       "      <td>44238</td>\n",
       "      <td>102</td>\n",
       "      <td>0</td>\n",
       "    </tr>\n",
       "    <tr>\n",
       "      <th>580379</th>\n",
       "      <td>61355</td>\n",
       "      <td>21607</td>\n",
       "      <td>103</td>\n",
       "      <td>0</td>\n",
       "    </tr>\n",
       "    <tr>\n",
       "      <th>580380</th>\n",
       "      <td>61355</td>\n",
       "      <td>30727</td>\n",
       "      <td>104</td>\n",
       "      <td>0</td>\n",
       "    </tr>\n",
       "    <tr>\n",
       "      <th>580381</th>\n",
       "      <td>61355</td>\n",
       "      <td>27729</td>\n",
       "      <td>105</td>\n",
       "      <td>0</td>\n",
       "    </tr>\n",
       "    <tr>\n",
       "      <th>...</th>\n",
       "      <td>...</td>\n",
       "      <td>...</td>\n",
       "      <td>...</td>\n",
       "      <td>...</td>\n",
       "    </tr>\n",
       "    <tr>\n",
       "      <th>31363974</th>\n",
       "      <td>3308010</td>\n",
       "      <td>14242</td>\n",
       "      <td>111</td>\n",
       "      <td>1</td>\n",
       "    </tr>\n",
       "    <tr>\n",
       "      <th>31363975</th>\n",
       "      <td>3308010</td>\n",
       "      <td>5708</td>\n",
       "      <td>112</td>\n",
       "      <td>0</td>\n",
       "    </tr>\n",
       "    <tr>\n",
       "      <th>31363976</th>\n",
       "      <td>3308010</td>\n",
       "      <td>21019</td>\n",
       "      <td>113</td>\n",
       "      <td>1</td>\n",
       "    </tr>\n",
       "    <tr>\n",
       "      <th>31363977</th>\n",
       "      <td>3308010</td>\n",
       "      <td>13870</td>\n",
       "      <td>114</td>\n",
       "      <td>1</td>\n",
       "    </tr>\n",
       "    <tr>\n",
       "      <th>31363978</th>\n",
       "      <td>3308010</td>\n",
       "      <td>21137</td>\n",
       "      <td>115</td>\n",
       "      <td>1</td>\n",
       "    </tr>\n",
       "  </tbody>\n",
       "</table>\n",
       "<p>242 rows × 4 columns</p>\n",
       "</div>"
      ],
      "text/plain": [
       "          order_id  product_id  add_to_cart_order  reordered\n",
       "580377       61355       26701                101          0\n",
       "580378       61355       44238                102          0\n",
       "580379       61355       21607                103          0\n",
       "580380       61355       30727                104          0\n",
       "580381       61355       27729                105          0\n",
       "...            ...         ...                ...        ...\n",
       "31363974   3308010       14242                111          1\n",
       "31363975   3308010        5708                112          0\n",
       "31363976   3308010       21019                113          1\n",
       "31363977   3308010       13870                114          1\n",
       "31363978   3308010       21137                115          1\n",
       "\n",
       "[242 rows x 4 columns]"
      ]
     },
     "execution_count": 51,
     "metadata": {},
     "output_type": "execute_result"
    }
   ],
   "source": [
    "df_orders_prior.loc[(df_orders_prior['add_to_cart_order'] > 100)]"
   ]
  },
  {
   "cell_type": "code",
   "execution_count": 52,
   "id": "a2059a0d",
   "metadata": {},
   "outputs": [],
   "source": [
    "df_very_large = df_orders_prior.loc[(df_orders_prior['add_to_cart_order'] > 100)]"
   ]
  },
  {
   "cell_type": "code",
   "execution_count": 53,
   "id": "9e7a2f84",
   "metadata": {},
   "outputs": [],
   "source": [
    "df_very_large.to_clipboard()"
   ]
  },
  {
   "cell_type": "markdown",
   "id": "bb6cd483",
   "metadata": {},
   "source": [
    "#I looked at the exported file and I can't believe there would be huge orders like that, but it appeared legit."
   ]
  },
  {
   "cell_type": "code",
   "execution_count": 54,
   "id": "eb79ae16",
   "metadata": {},
   "outputs": [
    {
     "name": "stdout",
     "output_type": "stream",
     "text": [
      "<class 'pandas.core.frame.DataFrame'>\n",
      "RangeIndex: 32434489 entries, 0 to 32434488\n",
      "Data columns (total 4 columns):\n",
      " #   Column             Dtype\n",
      "---  ------             -----\n",
      " 0   order_id           int32\n",
      " 1   product_id         int32\n",
      " 2   add_to_cart_order  int16\n",
      " 3   reordered          int16\n",
      "dtypes: int16(2), int32(2)\n",
      "memory usage: 371.2 MB\n"
     ]
    }
   ],
   "source": [
    "df_orders_prior.info()"
   ]
  },
  {
   "cell_type": "code",
   "execution_count": 55,
   "id": "c86678c3",
   "metadata": {},
   "outputs": [],
   "source": [
    "#exporting the file as a pickle\n",
    "df_orders_prior.to_pickle(os.path.join(path, '02 Data','Prepared Data', 'orders_prior_clean.pkl'))"
   ]
  },
  {
   "cell_type": "code",
   "execution_count": null,
   "id": "18e0e5b3",
   "metadata": {},
   "outputs": [],
   "source": []
  }
 ],
 "metadata": {
  "kernelspec": {
   "display_name": "Python 3 (ipykernel)",
   "language": "python",
   "name": "python3"
  },
  "language_info": {
   "codemirror_mode": {
    "name": "ipython",
    "version": 3
   },
   "file_extension": ".py",
   "mimetype": "text/x-python",
   "name": "python",
   "nbconvert_exporter": "python",
   "pygments_lexer": "ipython3",
   "version": "3.9.7"
  }
 },
 "nbformat": 4,
 "nbformat_minor": 5
}
