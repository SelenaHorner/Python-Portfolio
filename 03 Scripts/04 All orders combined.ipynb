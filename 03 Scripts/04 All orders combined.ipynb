{
 "cells": [
  {
   "cell_type": "markdown",
   "id": "5a6538c3",
   "metadata": {},
   "source": [
    "# Summary of Notebook\n",
    "    merged orders_cleaned with orders_prior_clean \n",
    "    performed an inner merge so only the order_id within both sets was merged together\n",
    "    unable to compare what was lost from each dataframe because I had a memory error when attempting an outer join\n",
    "    merged dataframe = 30356421\n",
    "    exported dataframe as a pickle\n",
    "    saved as: all_orders.pkl"
   ]
  },
  {
   "cell_type": "code",
   "execution_count": 1,
   "id": "99385745",
   "metadata": {},
   "outputs": [],
   "source": [
    "#importing libraries\n",
    "import pandas as pd\n",
    "import numpy as np\n",
    "import os\n",
    "import matplotlib.pyplot as plt\n",
    "import seaborn as sns\n",
    "import scipy\n",
    "import datetime as dt"
   ]
  },
  {
   "cell_type": "code",
   "execution_count": 2,
   "id": "f724f308",
   "metadata": {},
   "outputs": [],
   "source": [
    "#import orders_cleaned\n",
    "df_orders = pd.read_pickle(r'C:\\Users\\Selena\\Desktop\\3-22 Instacart Basket Analysis\\02 Data\\Prepared Data\\orders_cleaned.pkl')\n",
    "path = r'C:\\Users\\Selena\\Desktop\\3-22 Instacart Basket Analysis'\n",
    "df_orders = pd.read_pickle(os.path.join(path, '02 Data', 'Prepared Data', 'orders_cleaned.pkl'))"
   ]
  },
  {
   "cell_type": "code",
   "execution_count": 3,
   "id": "87b2f691",
   "metadata": {},
   "outputs": [
    {
     "name": "stdout",
     "output_type": "stream",
     "text": [
      "<class 'pandas.core.frame.DataFrame'>\n",
      "Int64Index: 3214874 entries, 1 to 3421082\n",
      "Data columns (total 6 columns):\n",
      " #   Column                  Dtype  \n",
      "---  ------                  -----  \n",
      " 0   order_id                int32  \n",
      " 1   user_id                 int32  \n",
      " 2   order_number            int16  \n",
      " 3   day_of_week_ordered     int16  \n",
      " 4   hour_of_day_ordered     int16  \n",
      " 5   days_since_prior_order  float64\n",
      "dtypes: float64(1), int16(3), int32(2)\n",
      "memory usage: 92.0 MB\n"
     ]
    }
   ],
   "source": [
    "#checking the rows\n",
    "df_orders.info()"
   ]
  },
  {
   "cell_type": "code",
   "execution_count": 4,
   "id": "d1b5d85b",
   "metadata": {},
   "outputs": [],
   "source": [
    "#import orders__prior_clean\n",
    "df_orders__prior = pd.read_pickle(r'C:\\Users\\Selena\\Desktop\\3-22 Instacart Basket Analysis\\02 Data\\Prepared Data\\orders_prior_clean.pkl')\n",
    "path = r'C:\\Users\\Selena\\Desktop\\3-22 Instacart Basket Analysis'\n",
    "df_orders_prior = pd.read_pickle(os.path.join(path, '02 Data', 'Prepared Data', 'orders_prior_clean.pkl'))"
   ]
  },
  {
   "cell_type": "code",
   "execution_count": 5,
   "id": "34afd744",
   "metadata": {},
   "outputs": [
    {
     "name": "stdout",
     "output_type": "stream",
     "text": [
      "<class 'pandas.core.frame.DataFrame'>\n",
      "RangeIndex: 32434489 entries, 0 to 32434488\n",
      "Data columns (total 4 columns):\n",
      " #   Column             Dtype\n",
      "---  ------             -----\n",
      " 0   order_id           int32\n",
      " 1   product_id         int32\n",
      " 2   add_to_cart_order  int16\n",
      " 3   reordered          int16\n",
      "dtypes: int16(2), int32(2)\n",
      "memory usage: 371.2 MB\n"
     ]
    }
   ],
   "source": [
    "#checking the rows\n",
    "df_orders_prior.info()"
   ]
  },
  {
   "cell_type": "code",
   "execution_count": 22,
   "id": "88055109",
   "metadata": {},
   "outputs": [],
   "source": [
    "#merging the dataframes\n",
    "df_merged_orders = df_orders.merge(df_orders_prior, on = ('order_id'), indicator = True)"
   ]
  },
  {
   "cell_type": "code",
   "execution_count": 23,
   "id": "31dadd56",
   "metadata": {},
   "outputs": [
    {
     "data": {
      "text/html": [
       "<div>\n",
       "<style scoped>\n",
       "    .dataframe tbody tr th:only-of-type {\n",
       "        vertical-align: middle;\n",
       "    }\n",
       "\n",
       "    .dataframe tbody tr th {\n",
       "        vertical-align: top;\n",
       "    }\n",
       "\n",
       "    .dataframe thead th {\n",
       "        text-align: right;\n",
       "    }\n",
       "</style>\n",
       "<table border=\"1\" class=\"dataframe\">\n",
       "  <thead>\n",
       "    <tr style=\"text-align: right;\">\n",
       "      <th></th>\n",
       "      <th>order_id</th>\n",
       "      <th>user_id</th>\n",
       "      <th>order_number</th>\n",
       "      <th>day_of_week_ordered</th>\n",
       "      <th>hour_of_day_ordered</th>\n",
       "      <th>days_since_prior_order</th>\n",
       "      <th>product_id</th>\n",
       "      <th>add_to_cart_order</th>\n",
       "      <th>reordered</th>\n",
       "      <th>_merge</th>\n",
       "    </tr>\n",
       "  </thead>\n",
       "  <tbody>\n",
       "    <tr>\n",
       "      <th>0</th>\n",
       "      <td>2398795</td>\n",
       "      <td>1</td>\n",
       "      <td>2</td>\n",
       "      <td>3</td>\n",
       "      <td>7</td>\n",
       "      <td>15.0</td>\n",
       "      <td>196</td>\n",
       "      <td>1</td>\n",
       "      <td>1</td>\n",
       "      <td>both</td>\n",
       "    </tr>\n",
       "    <tr>\n",
       "      <th>1</th>\n",
       "      <td>2398795</td>\n",
       "      <td>1</td>\n",
       "      <td>2</td>\n",
       "      <td>3</td>\n",
       "      <td>7</td>\n",
       "      <td>15.0</td>\n",
       "      <td>10258</td>\n",
       "      <td>2</td>\n",
       "      <td>0</td>\n",
       "      <td>both</td>\n",
       "    </tr>\n",
       "    <tr>\n",
       "      <th>2</th>\n",
       "      <td>2398795</td>\n",
       "      <td>1</td>\n",
       "      <td>2</td>\n",
       "      <td>3</td>\n",
       "      <td>7</td>\n",
       "      <td>15.0</td>\n",
       "      <td>12427</td>\n",
       "      <td>3</td>\n",
       "      <td>1</td>\n",
       "      <td>both</td>\n",
       "    </tr>\n",
       "    <tr>\n",
       "      <th>3</th>\n",
       "      <td>2398795</td>\n",
       "      <td>1</td>\n",
       "      <td>2</td>\n",
       "      <td>3</td>\n",
       "      <td>7</td>\n",
       "      <td>15.0</td>\n",
       "      <td>13176</td>\n",
       "      <td>4</td>\n",
       "      <td>0</td>\n",
       "      <td>both</td>\n",
       "    </tr>\n",
       "    <tr>\n",
       "      <th>4</th>\n",
       "      <td>2398795</td>\n",
       "      <td>1</td>\n",
       "      <td>2</td>\n",
       "      <td>3</td>\n",
       "      <td>7</td>\n",
       "      <td>15.0</td>\n",
       "      <td>26088</td>\n",
       "      <td>5</td>\n",
       "      <td>1</td>\n",
       "      <td>both</td>\n",
       "    </tr>\n",
       "  </tbody>\n",
       "</table>\n",
       "</div>"
      ],
      "text/plain": [
       "   order_id  user_id  order_number  day_of_week_ordered  hour_of_day_ordered  \\\n",
       "0   2398795        1             2                    3                    7   \n",
       "1   2398795        1             2                    3                    7   \n",
       "2   2398795        1             2                    3                    7   \n",
       "3   2398795        1             2                    3                    7   \n",
       "4   2398795        1             2                    3                    7   \n",
       "\n",
       "   days_since_prior_order  product_id  add_to_cart_order  reordered _merge  \n",
       "0                    15.0         196                  1          1   both  \n",
       "1                    15.0       10258                  2          0   both  \n",
       "2                    15.0       12427                  3          1   both  \n",
       "3                    15.0       13176                  4          0   both  \n",
       "4                    15.0       26088                  5          1   both  "
      ]
     },
     "execution_count": 23,
     "metadata": {},
     "output_type": "execute_result"
    }
   ],
   "source": [
    "df_merged_orders.head()"
   ]
  },
  {
   "cell_type": "code",
   "execution_count": 24,
   "id": "d432dc8b",
   "metadata": {},
   "outputs": [
    {
     "data": {
      "text/plain": [
       "both          30356421\n",
       "left_only            0\n",
       "right_only           0\n",
       "Name: _merge, dtype: int64"
      ]
     },
     "execution_count": 24,
     "metadata": {},
     "output_type": "execute_result"
    }
   ],
   "source": [
    "# checking the rows merged on order_id\n",
    "df_merged_orders['_merge'].value_counts()"
   ]
  },
  {
   "cell_type": "code",
   "execution_count": 25,
   "id": "7796cb6f",
   "metadata": {},
   "outputs": [
    {
     "name": "stdout",
     "output_type": "stream",
     "text": [
      "<class 'pandas.core.frame.DataFrame'>\n",
      "Int64Index: 30356421 entries, 0 to 30356420\n",
      "Data columns (total 10 columns):\n",
      " #   Column                  Dtype   \n",
      "---  ------                  -----   \n",
      " 0   order_id                int32   \n",
      " 1   user_id                 int32   \n",
      " 2   order_number            int16   \n",
      " 3   day_of_week_ordered     int16   \n",
      " 4   hour_of_day_ordered     int16   \n",
      " 5   days_since_prior_order  float64 \n",
      " 6   product_id              int32   \n",
      " 7   add_to_cart_order       int16   \n",
      " 8   reordered               int16   \n",
      " 9   _merge                  category\n",
      "dtypes: category(1), float64(1), int16(5), int32(3)\n",
      "memory usage: 1.1 GB\n"
     ]
    }
   ],
   "source": [
    "df_merged_orders.info()"
   ]
  },
  {
   "cell_type": "markdown",
   "id": "bfb1c291",
   "metadata": {},
   "source": [
    "#please note: I could not do an outer merge to check because my computer did not have enough memory"
   ]
  },
  {
   "cell_type": "code",
   "execution_count": 29,
   "id": "b4f9a555",
   "metadata": {},
   "outputs": [
    {
     "data": {
      "text/plain": [
       "order_id                  0\n",
       "user_id                   0\n",
       "order_number              0\n",
       "day_of_week_ordered       0\n",
       "hour_of_day_ordered       0\n",
       "days_since_prior_order    0\n",
       "product_id                0\n",
       "add_to_cart_order         0\n",
       "reordered                 0\n",
       "_merge                    0\n",
       "dtype: int64"
      ]
     },
     "execution_count": 29,
     "metadata": {},
     "output_type": "execute_result"
    }
   ],
   "source": [
    "#seeing if any data is missing\n",
    "df_merged_orders.isnull().sum()"
   ]
  },
  {
   "cell_type": "code",
   "execution_count": 33,
   "id": "6f5b98d5",
   "metadata": {},
   "outputs": [],
   "source": [
    "#need to drop the _merge column\n",
    "df_merged_orders = df_merged_orders.drop('_merge', axis=1)"
   ]
  },
  {
   "cell_type": "code",
   "execution_count": 35,
   "id": "1d71fa37",
   "metadata": {},
   "outputs": [
    {
     "data": {
      "text/html": [
       "<div>\n",
       "<style scoped>\n",
       "    .dataframe tbody tr th:only-of-type {\n",
       "        vertical-align: middle;\n",
       "    }\n",
       "\n",
       "    .dataframe tbody tr th {\n",
       "        vertical-align: top;\n",
       "    }\n",
       "\n",
       "    .dataframe thead th {\n",
       "        text-align: right;\n",
       "    }\n",
       "</style>\n",
       "<table border=\"1\" class=\"dataframe\">\n",
       "  <thead>\n",
       "    <tr style=\"text-align: right;\">\n",
       "      <th></th>\n",
       "      <th>order_id</th>\n",
       "      <th>user_id</th>\n",
       "      <th>order_number</th>\n",
       "      <th>day_of_week_ordered</th>\n",
       "      <th>hour_of_day_ordered</th>\n",
       "      <th>days_since_prior_order</th>\n",
       "      <th>product_id</th>\n",
       "      <th>add_to_cart_order</th>\n",
       "      <th>reordered</th>\n",
       "    </tr>\n",
       "  </thead>\n",
       "  <tbody>\n",
       "    <tr>\n",
       "      <th>0</th>\n",
       "      <td>2398795</td>\n",
       "      <td>1</td>\n",
       "      <td>2</td>\n",
       "      <td>3</td>\n",
       "      <td>7</td>\n",
       "      <td>15.0</td>\n",
       "      <td>196</td>\n",
       "      <td>1</td>\n",
       "      <td>1</td>\n",
       "    </tr>\n",
       "    <tr>\n",
       "      <th>1</th>\n",
       "      <td>2398795</td>\n",
       "      <td>1</td>\n",
       "      <td>2</td>\n",
       "      <td>3</td>\n",
       "      <td>7</td>\n",
       "      <td>15.0</td>\n",
       "      <td>10258</td>\n",
       "      <td>2</td>\n",
       "      <td>0</td>\n",
       "    </tr>\n",
       "    <tr>\n",
       "      <th>2</th>\n",
       "      <td>2398795</td>\n",
       "      <td>1</td>\n",
       "      <td>2</td>\n",
       "      <td>3</td>\n",
       "      <td>7</td>\n",
       "      <td>15.0</td>\n",
       "      <td>12427</td>\n",
       "      <td>3</td>\n",
       "      <td>1</td>\n",
       "    </tr>\n",
       "    <tr>\n",
       "      <th>3</th>\n",
       "      <td>2398795</td>\n",
       "      <td>1</td>\n",
       "      <td>2</td>\n",
       "      <td>3</td>\n",
       "      <td>7</td>\n",
       "      <td>15.0</td>\n",
       "      <td>13176</td>\n",
       "      <td>4</td>\n",
       "      <td>0</td>\n",
       "    </tr>\n",
       "    <tr>\n",
       "      <th>4</th>\n",
       "      <td>2398795</td>\n",
       "      <td>1</td>\n",
       "      <td>2</td>\n",
       "      <td>3</td>\n",
       "      <td>7</td>\n",
       "      <td>15.0</td>\n",
       "      <td>26088</td>\n",
       "      <td>5</td>\n",
       "      <td>1</td>\n",
       "    </tr>\n",
       "  </tbody>\n",
       "</table>\n",
       "</div>"
      ],
      "text/plain": [
       "   order_id  user_id  order_number  day_of_week_ordered  hour_of_day_ordered  \\\n",
       "0   2398795        1             2                    3                    7   \n",
       "1   2398795        1             2                    3                    7   \n",
       "2   2398795        1             2                    3                    7   \n",
       "3   2398795        1             2                    3                    7   \n",
       "4   2398795        1             2                    3                    7   \n",
       "\n",
       "   days_since_prior_order  product_id  add_to_cart_order  reordered  \n",
       "0                    15.0         196                  1          1  \n",
       "1                    15.0       10258                  2          0  \n",
       "2                    15.0       12427                  3          1  \n",
       "3                    15.0       13176                  4          0  \n",
       "4                    15.0       26088                  5          1  "
      ]
     },
     "execution_count": 35,
     "metadata": {},
     "output_type": "execute_result"
    }
   ],
   "source": [
    "df_merged_orders.head()"
   ]
  },
  {
   "cell_type": "code",
   "execution_count": 38,
   "id": "03a2549a",
   "metadata": {},
   "outputs": [
    {
     "name": "stdout",
     "output_type": "stream",
     "text": [
      "<class 'pandas.core.frame.DataFrame'>\n",
      "Int64Index: 30356421 entries, 0 to 30356420\n",
      "Data columns (total 9 columns):\n",
      " #   Column                  Dtype  \n",
      "---  ------                  -----  \n",
      " 0   order_id                int32  \n",
      " 1   user_id                 int32  \n",
      " 2   order_number            int16  \n",
      " 3   day_of_week_ordered     int16  \n",
      " 4   hour_of_day_ordered     int16  \n",
      " 5   days_since_prior_order  float64\n",
      " 6   product_id              int32  \n",
      " 7   add_to_cart_order       int16  \n",
      " 8   reordered               int16  \n",
      "dtypes: float64(1), int16(5), int32(3)\n",
      "memory usage: 1.1 GB\n"
     ]
    }
   ],
   "source": [
    "df_merged_orders.info()"
   ]
  },
  {
   "cell_type": "code",
   "execution_count": 39,
   "id": "0fb7fe80",
   "metadata": {},
   "outputs": [],
   "source": [
    "#exporting all orders as a pickle\n",
    "df_merged_orders.to_pickle(os.path.join(path, '02 Data','Prepared Data', 'all_orders.pkl'))"
   ]
  },
  {
   "cell_type": "code",
   "execution_count": null,
   "id": "815b9ffe",
   "metadata": {},
   "outputs": [],
   "source": []
  }
 ],
 "metadata": {
  "kernelspec": {
   "display_name": "Python 3 (ipykernel)",
   "language": "python",
   "name": "python3"
  },
  "language_info": {
   "codemirror_mode": {
    "name": "ipython",
    "version": 3
   },
   "file_extension": ".py",
   "mimetype": "text/x-python",
   "name": "python",
   "nbconvert_exporter": "python",
   "pygments_lexer": "ipython3",
   "version": "3.9.7"
  }
 },
 "nbformat": 4,
 "nbformat_minor": 5
}
