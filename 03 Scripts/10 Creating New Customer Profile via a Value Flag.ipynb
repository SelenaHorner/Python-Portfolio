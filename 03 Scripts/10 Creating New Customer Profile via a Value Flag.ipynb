{
 "cells": [
  {
   "cell_type": "markdown",
   "id": "b4c06e83",
   "metadata": {},
   "source": [
    "# Summary of Notebook\n",
    "    Created a target shopper profile\n",
    "            target shopper = married"
   ]
  },
  {
   "cell_type": "code",
   "execution_count": 1,
   "id": "417269e9",
   "metadata": {},
   "outputs": [],
   "source": [
    "#importing libraries\n",
    "import pandas as pd\n",
    "import numpy as np\n",
    "import os\n",
    "import matplotlib.pyplot as plt\n",
    "import seaborn as sns\n",
    "import scipy\n",
    "import datetime as dt"
   ]
  },
  {
   "cell_type": "code",
   "execution_count": 2,
   "id": "a2d8ce44",
   "metadata": {},
   "outputs": [],
   "source": [
    "#import pickle active customers dataframe\n",
    "df_active = pd.read_pickle(r'C:\\Users\\Selena\\Desktop\\3-22 Instacart Basket Analysis\\04 Analysis\\active_all_plus_regions_order_paid.pkl')\n",
    "path = r'C:\\Users\\Selena\\Desktop\\3-22 Instacart Basket Analysis'\n",
    "df_active = pd.read_pickle(os.path.join(path, '04 Analysis', 'active_all_plus_regions_order_paid.pkl'))"
   ]
  },
  {
   "cell_type": "code",
   "execution_count": 3,
   "id": "29b4d2ca",
   "metadata": {},
   "outputs": [
    {
     "name": "stdout",
     "output_type": "stream",
     "text": [
      "<class 'pandas.core.frame.DataFrame'>\n",
      "Int64Index: 28669841 entries, 0 to 30330083\n",
      "Data columns (total 31 columns):\n",
      " #   Column                  Dtype         \n",
      "---  ------                  -----         \n",
      " 0   order_id                int32         \n",
      " 1   user_id                 int32         \n",
      " 2   order_number            int16         \n",
      " 3   day_of_week_ordered     int16         \n",
      " 4   hour_of_day_ordered     int16         \n",
      " 5   days_since_prior_order  float64       \n",
      " 6   product_id              int32         \n",
      " 7   add_to_cart_order       int16         \n",
      " 8   reordered               int16         \n",
      " 9   product_name            category      \n",
      " 10  aisle_id                int16         \n",
      " 11  department_id           int16         \n",
      " 12  price                   float64       \n",
      " 13  gender                  category      \n",
      " 14  state                   category      \n",
      " 15  age                     int16         \n",
      " 16  date_joined             datetime64[ns]\n",
      " 17  dependents              int16         \n",
      " 18  living_situation        category      \n",
      " 19  income                  int32         \n",
      " 20  price_range_loc         category      \n",
      " 21  busiest_day             category      \n",
      " 22  busiest_period_of_day   category      \n",
      " 23  max_order               int16         \n",
      " 24  loyalty_flag            category      \n",
      " 25  total_spent             float64       \n",
      " 26  spender_flag            category      \n",
      " 27  median_days_prior_ord   float64       \n",
      " 28  frequency_flag          category      \n",
      " 29  region                  category      \n",
      " 30  order_paid_amount       float64       \n",
      "dtypes: category(11), datetime64[ns](1), float64(5), int16(10), int32(4)\n",
      "memory usage: 2.8 GB\n"
     ]
    }
   ],
   "source": [
    "df_active.info()"
   ]
  },
  {
   "cell_type": "code",
   "execution_count": 4,
   "id": "d53b8bd8",
   "metadata": {},
   "outputs": [],
   "source": [
    "#defining value flag\n",
    "df_active.loc[df_active['living_situation'] == 'married', 'value_flag'] = 'target shopper'"
   ]
  },
  {
   "cell_type": "code",
   "execution_count": 5,
   "id": "5c009ed5",
   "metadata": {},
   "outputs": [],
   "source": [
    "#defining value flag\n",
    "df_active.loc[df_active['living_situation'] == 'divorced/widowed', 'value_flag'] = 'not target'"
   ]
  },
  {
   "cell_type": "code",
   "execution_count": 6,
   "id": "3cf22c3f",
   "metadata": {},
   "outputs": [],
   "source": [
    "#defining value flag\n",
    "df_active.loc[df_active['living_situation'] == 'living with parents and siblings', 'value_flag'] = 'not target'"
   ]
  },
  {
   "cell_type": "code",
   "execution_count": 7,
   "id": "6558f80c",
   "metadata": {},
   "outputs": [],
   "source": [
    "#defining value flag\n",
    "df_active.loc[df_active['living_situation'] == 'single', 'value_flag'] = 'not target'"
   ]
  },
  {
   "cell_type": "code",
   "execution_count": 8,
   "id": "0675bfb3",
   "metadata": {},
   "outputs": [
    {
     "data": {
      "text/html": [
       "<div>\n",
       "<style scoped>\n",
       "    .dataframe tbody tr th:only-of-type {\n",
       "        vertical-align: middle;\n",
       "    }\n",
       "\n",
       "    .dataframe tbody tr th {\n",
       "        vertical-align: top;\n",
       "    }\n",
       "\n",
       "    .dataframe thead th {\n",
       "        text-align: right;\n",
       "    }\n",
       "</style>\n",
       "<table border=\"1\" class=\"dataframe\">\n",
       "  <thead>\n",
       "    <tr style=\"text-align: right;\">\n",
       "      <th></th>\n",
       "      <th>order_id</th>\n",
       "      <th>user_id</th>\n",
       "      <th>order_number</th>\n",
       "      <th>day_of_week_ordered</th>\n",
       "      <th>hour_of_day_ordered</th>\n",
       "      <th>days_since_prior_order</th>\n",
       "      <th>product_id</th>\n",
       "      <th>add_to_cart_order</th>\n",
       "      <th>reordered</th>\n",
       "      <th>product_name</th>\n",
       "      <th>...</th>\n",
       "      <th>busiest_period_of_day</th>\n",
       "      <th>max_order</th>\n",
       "      <th>loyalty_flag</th>\n",
       "      <th>total_spent</th>\n",
       "      <th>spender_flag</th>\n",
       "      <th>median_days_prior_ord</th>\n",
       "      <th>frequency_flag</th>\n",
       "      <th>region</th>\n",
       "      <th>order_paid_amount</th>\n",
       "      <th>value_flag</th>\n",
       "    </tr>\n",
       "  </thead>\n",
       "  <tbody>\n",
       "    <tr>\n",
       "      <th>0</th>\n",
       "      <td>2398795</td>\n",
       "      <td>1</td>\n",
       "      <td>2</td>\n",
       "      <td>3</td>\n",
       "      <td>7</td>\n",
       "      <td>15.0</td>\n",
       "      <td>196</td>\n",
       "      <td>1</td>\n",
       "      <td>1</td>\n",
       "      <td>Soda</td>\n",
       "      <td>...</td>\n",
       "      <td>Average Orders</td>\n",
       "      <td>10</td>\n",
       "      <td>New customer</td>\n",
       "      <td>344.1</td>\n",
       "      <td>Low spender</td>\n",
       "      <td>20.5</td>\n",
       "      <td>Regular customer</td>\n",
       "      <td>South</td>\n",
       "      <td>35.4</td>\n",
       "      <td>target shopper</td>\n",
       "    </tr>\n",
       "    <tr>\n",
       "      <th>1</th>\n",
       "      <td>473747</td>\n",
       "      <td>1</td>\n",
       "      <td>3</td>\n",
       "      <td>3</td>\n",
       "      <td>12</td>\n",
       "      <td>21.0</td>\n",
       "      <td>196</td>\n",
       "      <td>1</td>\n",
       "      <td>1</td>\n",
       "      <td>Soda</td>\n",
       "      <td>...</td>\n",
       "      <td>Most Orders</td>\n",
       "      <td>10</td>\n",
       "      <td>New customer</td>\n",
       "      <td>344.1</td>\n",
       "      <td>Low spender</td>\n",
       "      <td>20.5</td>\n",
       "      <td>Regular customer</td>\n",
       "      <td>South</td>\n",
       "      <td>28.2</td>\n",
       "      <td>target shopper</td>\n",
       "    </tr>\n",
       "    <tr>\n",
       "      <th>2</th>\n",
       "      <td>2254736</td>\n",
       "      <td>1</td>\n",
       "      <td>4</td>\n",
       "      <td>4</td>\n",
       "      <td>7</td>\n",
       "      <td>29.0</td>\n",
       "      <td>196</td>\n",
       "      <td>1</td>\n",
       "      <td>1</td>\n",
       "      <td>Soda</td>\n",
       "      <td>...</td>\n",
       "      <td>Average Orders</td>\n",
       "      <td>10</td>\n",
       "      <td>New customer</td>\n",
       "      <td>344.1</td>\n",
       "      <td>Low spender</td>\n",
       "      <td>20.5</td>\n",
       "      <td>Regular customer</td>\n",
       "      <td>South</td>\n",
       "      <td>26.0</td>\n",
       "      <td>target shopper</td>\n",
       "    </tr>\n",
       "    <tr>\n",
       "      <th>3</th>\n",
       "      <td>431534</td>\n",
       "      <td>1</td>\n",
       "      <td>5</td>\n",
       "      <td>4</td>\n",
       "      <td>15</td>\n",
       "      <td>28.0</td>\n",
       "      <td>196</td>\n",
       "      <td>1</td>\n",
       "      <td>1</td>\n",
       "      <td>Soda</td>\n",
       "      <td>...</td>\n",
       "      <td>Most Orders</td>\n",
       "      <td>10</td>\n",
       "      <td>New customer</td>\n",
       "      <td>344.1</td>\n",
       "      <td>Low spender</td>\n",
       "      <td>20.5</td>\n",
       "      <td>Regular customer</td>\n",
       "      <td>South</td>\n",
       "      <td>57.0</td>\n",
       "      <td>target shopper</td>\n",
       "    </tr>\n",
       "    <tr>\n",
       "      <th>4</th>\n",
       "      <td>3367565</td>\n",
       "      <td>1</td>\n",
       "      <td>6</td>\n",
       "      <td>2</td>\n",
       "      <td>7</td>\n",
       "      <td>19.0</td>\n",
       "      <td>196</td>\n",
       "      <td>1</td>\n",
       "      <td>1</td>\n",
       "      <td>Soda</td>\n",
       "      <td>...</td>\n",
       "      <td>Average Orders</td>\n",
       "      <td>10</td>\n",
       "      <td>New customer</td>\n",
       "      <td>344.1</td>\n",
       "      <td>Low spender</td>\n",
       "      <td>20.5</td>\n",
       "      <td>Regular customer</td>\n",
       "      <td>South</td>\n",
       "      <td>25.0</td>\n",
       "      <td>target shopper</td>\n",
       "    </tr>\n",
       "  </tbody>\n",
       "</table>\n",
       "<p>5 rows × 32 columns</p>\n",
       "</div>"
      ],
      "text/plain": [
       "   order_id  user_id  order_number  day_of_week_ordered  hour_of_day_ordered  \\\n",
       "0   2398795        1             2                    3                    7   \n",
       "1    473747        1             3                    3                   12   \n",
       "2   2254736        1             4                    4                    7   \n",
       "3    431534        1             5                    4                   15   \n",
       "4   3367565        1             6                    2                    7   \n",
       "\n",
       "   days_since_prior_order  product_id  add_to_cart_order  reordered  \\\n",
       "0                    15.0         196                  1          1   \n",
       "1                    21.0         196                  1          1   \n",
       "2                    29.0         196                  1          1   \n",
       "3                    28.0         196                  1          1   \n",
       "4                    19.0         196                  1          1   \n",
       "\n",
       "  product_name  ...  busiest_period_of_day  max_order  loyalty_flag  \\\n",
       "0         Soda  ...         Average Orders         10  New customer   \n",
       "1         Soda  ...            Most Orders         10  New customer   \n",
       "2         Soda  ...         Average Orders         10  New customer   \n",
       "3         Soda  ...            Most Orders         10  New customer   \n",
       "4         Soda  ...         Average Orders         10  New customer   \n",
       "\n",
       "  total_spent spender_flag  median_days_prior_ord    frequency_flag  region  \\\n",
       "0       344.1  Low spender                   20.5  Regular customer   South   \n",
       "1       344.1  Low spender                   20.5  Regular customer   South   \n",
       "2       344.1  Low spender                   20.5  Regular customer   South   \n",
       "3       344.1  Low spender                   20.5  Regular customer   South   \n",
       "4       344.1  Low spender                   20.5  Regular customer   South   \n",
       "\n",
       "  order_paid_amount      value_flag  \n",
       "0              35.4  target shopper  \n",
       "1              28.2  target shopper  \n",
       "2              26.0  target shopper  \n",
       "3              57.0  target shopper  \n",
       "4              25.0  target shopper  \n",
       "\n",
       "[5 rows x 32 columns]"
      ]
     },
     "execution_count": 8,
     "metadata": {},
     "output_type": "execute_result"
    }
   ],
   "source": [
    "df_active.head()"
   ]
  },
  {
   "cell_type": "code",
   "execution_count": 9,
   "id": "c2362090",
   "metadata": {},
   "outputs": [
    {
     "data": {
      "text/plain": [
       "target shopper    20132071\n",
       "not target         8537770\n",
       "Name: value_flag, dtype: int64"
      ]
     },
     "execution_count": 9,
     "metadata": {},
     "output_type": "execute_result"
    }
   ],
   "source": [
    "#seeing the number of customers in each category\n",
    "df_active['value_flag'].value_counts(dropna=False)"
   ]
  },
  {
   "cell_type": "markdown",
   "id": "13dac8a7",
   "metadata": {},
   "source": [
    "    #target shopper = married"
   ]
  },
  {
   "cell_type": "code",
   "execution_count": 10,
   "id": "76ea339a",
   "metadata": {},
   "outputs": [
    {
     "data": {
      "image/png": "[encoded data removed]",
      "text/plain": [
       "<Figure size 432x288 with 1 Axes>"
      ]
     },
     "metadata": {
      "needs_background": "light"
     },
     "output_type": "display_data"
    }
   ],
   "source": [
    "#seeing the difference in spending by value flag\n",
    "figure1 = df_active.groupby('value_flag')['total_spent'].sum().plot.bar()"
   ]
  },
  {
   "cell_type": "code",
   "execution_count": 11,
   "id": "4cfc1224",
   "metadata": {},
   "outputs": [
    {
     "data": {
      "text/plain": [
       "value_flag\n",
       "not target        2.970266e+10\n",
       "target shopper    6.955852e+10\n",
       "Name: total_spent, dtype: float64"
      ]
     },
     "execution_count": 11,
     "metadata": {},
     "output_type": "execute_result"
    }
   ],
   "source": [
    "df_active.groupby('value_flag')['total_spent'].sum()"
   ]
  },
  {
   "cell_type": "markdown",
   "id": "dd072dc1",
   "metadata": {},
   "source": [
    "#there is an 134% increase in spending comparing a not target shopper to a target shopper"
   ]
  },
  {
   "cell_type": "code",
   "execution_count": 12,
   "id": "43460fb2",
   "metadata": {},
   "outputs": [],
   "source": [
    "%matplotlib inline\n",
    "#saving the image within desktop folder - added visualizations\n",
    "figure1.figure.savefig(os.path.join(path, '04 Analysis','Visualizations', 'bar_ACTIVE_target_shopper_spending.jpg'),bbox_inches='tight')"
   ]
  },
  {
   "cell_type": "code",
   "execution_count": 13,
   "id": "b9390668",
   "metadata": {},
   "outputs": [
    {
     "data": {
      "image/png": "[encoded data removed]",
      "text/plain": [
       "<Figure size 432x288 with 1 Axes>"
      ]
     },
     "metadata": {
      "needs_background": "light"
     },
     "output_type": "display_data"
    }
   ],
   "source": [
    "#seeing histogram of value customer\n",
    "figure2 = df_active['value_flag'].value_counts(dropna=False).plot.bar()"
   ]
  },
  {
   "cell_type": "code",
   "execution_count": 14,
   "id": "4dd00fd0",
   "metadata": {},
   "outputs": [],
   "source": [
    "#saving the image within desktop folder - added visualizations\n",
    "figure2.figure.savefig(os.path.join(path, '04 Analysis','Visualizations', 'bar_ACTIVE_target_shopper_count.jpg'),bbox_inches='tight')"
   ]
  },
  {
   "cell_type": "code",
   "execution_count": 17,
   "id": "d6feee09",
   "metadata": {},
   "outputs": [],
   "source": [
    "#exporting the new dataframe as a pickle\n",
    "df_active.to_pickle(os.path.join(path, '04 Analysis','all_active_with_value.pkl'))"
   ]
  },
  {
   "cell_type": "code",
   "execution_count": null,
   "id": "21c30ebf",
   "metadata": {},
   "outputs": [],
   "source": []
  }
 ],
 "metadata": {
  "kernelspec": {
   "display_name": "Python 3 (ipykernel)",
   "language": "python",
   "name": "python3"
  },
  "language_info": {
   "codemirror_mode": {
    "name": "ipython",
    "version": 3
   },
   "file_extension": ".py",
   "mimetype": "text/x-python",
   "name": "python",
   "nbconvert_exporter": "python",
   "pygments_lexer": "ipython3",
   "version": "3.9.7"
  }
 },
 "nbformat": 4,
 "nbformat_minor": 5
}
